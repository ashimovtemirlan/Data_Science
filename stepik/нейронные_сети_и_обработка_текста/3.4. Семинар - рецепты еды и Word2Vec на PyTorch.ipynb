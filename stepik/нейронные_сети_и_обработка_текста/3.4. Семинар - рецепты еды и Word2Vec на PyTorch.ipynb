{
 "cells": [
  {
   "cell_type": "code",
   "execution_count": 1,
   "id": "0ad0dd3f",
   "metadata": {},
   "outputs": [],
   "source": [
    "%load_ext autoreload\n",
    "%autoreload 2\n",
    "\n",
    "import random\n",
    "import pandas as pd\n",
    "import numpy as np\n",
    "\n",
    "import matplotlib.pyplot as plt\n",
    "%matplotlib inline\n",
    "\n",
    "import torch\n",
    "from torch import nn\n",
    "from torch.nn import functional as F\n",
    "\n",
    "import dlnlputils\n",
    "from dlnlputils.data import tokenize_corpus, build_vocabulary, texts_to_token_ids, PaddedSequenceDataset, Embeddings\n",
    "from dlnlputils.pipeline import train_eval_loop, predict_with_model, init_random_seed\n",
    "from dlnlputils.visualization import plot_vectors\n",
    "\n",
    "init_random_seed()"
   ]
  },
  {
   "cell_type": "markdown",
   "id": "cf5b6ea9",
   "metadata": {},
   "source": [
    "# Загрузка данных и подготовка корпуса"
   ]
  },
  {
   "cell_type": "code",
   "execution_count": 2,
   "id": "5ab124c3",
   "metadata": {},
   "outputs": [
    {
     "name": "stdout",
     "output_type": "stream",
     "text": [
      "Обучающая выборка - 125344\n",
      "Тестовая выборка - 53719\n",
      "\n",
      "1/4 cup sour cream\n",
      "10 ounces swordfish, red snapper or other firm-fleshed fish\n",
      "1 tablespoon minced basil leaves\n",
      "Handful fresh parsley, finely minced\n",
      "4 ounces lard or butter, plus more for brushing tops\n",
      "4 to 5 green cardamom pods\n",
      "1 stick ( 1/4 pound) unsalted butter, softened\n",
      "1/4 teaspoon red pepper flakes, preferably Turkish or Aleppo (see note), more to taste\n",
      "1 tablespoon fresh lemon juice\n",
      "1/4 cup scallions, thinly sliced\n"
     ]
    }
   ],
   "source": [
    "full_dataset = list(pd.read_csv('./datasets/nyt-ingredients-snapshot-2015.csv')['input'].dropna())\n",
    "random.shuffle(full_dataset)\n",
    "\n",
    "TRAIN_VAL_SPLIT = int(len(full_dataset) * 0.7)\n",
    "train_source = full_dataset[:TRAIN_VAL_SPLIT]\n",
    "test_source = full_dataset[TRAIN_VAL_SPLIT:]\n",
    "print(f'Обучающая выборка - {len(train_source)}')\n",
    "print(f'Тестовая выборка - {len(test_source)}')\n",
    "print()\n",
    "print('\\n'.join(train_source[:10]))"
   ]
  },
  {
   "cell_type": "code",
   "execution_count": 3,
   "id": "5dbe8673",
   "metadata": {},
   "outputs": [
    {
     "name": "stdout",
     "output_type": "stream",
     "text": [
      "sour cream\n",
      "ounces swordfish snapper other firm fleshed fish\n",
      "tablespoon minced basil leaves\n",
      "handful fresh parsley finely minced\n",
      "ounces lard butter plus more brushing tops\n",
      "green cardamom pods\n",
      "stick pound unsalted butter softened\n",
      "teaspoon pepper flakes preferably turkish aleppo note more taste\n",
      "tablespoon fresh lemon juice\n",
      "scallions thinly sliced\n"
     ]
    }
   ],
   "source": [
    "# Токенизируем\n",
    "train_tokenized = tokenize_corpus(train_source)\n",
    "test_tokenized = tokenize_corpus(test_source)\n",
    "print('\\n'.join(' '.join(sent) for sent in train_tokenized[:10]))"
   ]
  },
  {
   "cell_type": "code",
   "execution_count": 4,
   "id": "b79f21d6",
   "metadata": {},
   "outputs": [
    {
     "name": "stdout",
     "output_type": "stream",
     "text": [
      "Размер словаря - 2267\n",
      "[('<PAD>', 0), ('tablespoons', 1), ('teaspoon', 2), ('chopped', 3), ('salt', 4), ('pepper', 5), ('cups', 6), ('ground', 7), ('fresh', 8), ('tablespoon', 9)]\n"
     ]
    }
   ],
   "source": [
    "# Строим словарь\n",
    "vocabulary, word_doc_freq = build_vocabulary(train_tokenized, max_doc_freq=0.9, min_count=5, pad_word='<PAD>')\n",
    "print(f'Размер словаря - {len(vocabulary)}')\n",
    "print(list(vocabulary.items())[:10])"
   ]
  },
  {
   "cell_type": "code",
   "execution_count": 5,
   "id": "dad4a71d",
   "metadata": {},
   "outputs": [
    {
     "name": "stdout",
     "output_type": "stream",
     "text": [
      "222 52\n",
      "22 878 574 127 246 707 181\n",
      "9 19 88 33\n",
      "517 8 43 15 19\n",
      "22 586 20 45 47 648 649\n",
      "59 329 535\n",
      "200 12 50 20 266\n",
      "2 5 140 78 1208 735 153 47 10\n",
      "9 8 31 25\n",
      "98 65 27\n"
     ]
    }
   ],
   "source": [
    "# Отображаем в номера токенов\n",
    "train_token_ids = texts_to_token_ids(train_tokenized, vocabulary)\n",
    "test_token_ids = texts_to_token_ids(test_tokenized, vocabulary)\n",
    "\n",
    "print('\\n'.join(' '.join(str(t) for t in sent) for sent in train_token_ids[:10]))"
   ]
  },
  {
   "cell_type": "code",
   "execution_count": 6,
   "id": "f6367e06",
   "metadata": {},
   "outputs": [
    {
     "data": {
      "text/plain": [
       "Text(0.5, 1.0, 'Гистограмма длин предложений')"
      ]
     },
     "execution_count": 6,
     "metadata": {},
     "output_type": "execute_result"
    },
    {
     "data": {
      "image/png": "[encoded data removed]",
      "text/plain": [
       "<Figure size 432x288 with 1 Axes>"
      ]
     },
     "metadata": {
      "needs_background": "light"
     },
     "output_type": "display_data"
    }
   ],
   "source": [
    "plt.hist([len(s) for s in train_token_ids], bins=20)\n",
    "plt.title('Гистограмма длин предложений')"
   ]
  },
  {
   "cell_type": "code",
   "execution_count": 7,
   "id": "025e6c63",
   "metadata": {},
   "outputs": [
    {
     "name": "stdout",
     "output_type": "stream",
     "text": [
      "(tensor([222,  52,   0,   0,   0,   0,   0,   0,   0,   0,   0,   0,   0,   0,\n",
      "          0,   0,   0,   0,   0,   0]), tensor(0))\n"
     ]
    }
   ],
   "source": [
    "MAX_SENTENCE_LEN = 20\n",
    "train_dataset = PaddedSequenceDataset(train_token_ids,\n",
    "                                      np.zeros(len(train_token_ids)),\n",
    "                                      out_len=MAX_SENTENCE_LEN)\n",
    "test_dataset = PaddedSequenceDataset(test_token_ids,\n",
    "                                     np.zeros(len(test_token_ids)),\n",
    "                                     out_len=MAX_SENTENCE_LEN)\n",
    "print(train_dataset[0])"
   ]
  },
  {
   "cell_type": "markdown",
   "id": "c9509b02",
   "metadata": {},
   "source": [
    "# Алгоритм обучения - Skip Gram Negative Sampling\n",
    "\n",
    "**Skip Gram** - предсказываем соседние слова по центральному слову\n",
    "\n",
    "**Negative Sampling** - аппроксимация softmax\n",
    "\n",
    "$$ W, D \\in \\mathbb{R}^{Vocab \\times EmbSize} $$\n",
    "\n",
    "$$ \\sum_{CenterW_i} P(CtxW_{-2}, CtxW_{-1}, CtxW_{+1}, CtxW_{+2} | CenterW_i; W, D) \\rightarrow \\max_{W,D} $$\n",
    "\n",
    "$$ P(CtxW_{-2}, CtxW_{-1}, CtxW_{+1}, CtxW_{+2} | CenterW_i; W, D) = \\prod_j P(CtxW_j | CenterW_i; W, D) $$\n",
    "    \n",
    "$$ P(CtxW_j | CenterW_i; W, D) = \\frac{e^{w_i \\cdot d_j}} { \\sum_{j=1}^{|V|} e^{w_i \\cdot d_j}} = softmax \\simeq \\frac{e^{w_i \\cdot d_j^+}} { \\sum_{j=1}^{k} e^{w_i \\cdot d_j^-}}, \\quad k \\ll |V| $$"
   ]
  },
  {
   "cell_type": "code",
   "execution_count": 8,
   "id": "0dc8bf9a",
   "metadata": {},
   "outputs": [
    {
     "data": {
      "text/plain": [
       "tensor([[0., 1., 1., 1., 0., 0., 0., 0., 0., 0.],\n",
       "        [1., 0., 1., 1., 1., 0., 0., 0., 0., 0.],\n",
       "        [1., 1., 0., 1., 1., 1., 0., 0., 0., 0.],\n",
       "        [1., 1., 1., 0., 1., 1., 1., 0., 0., 0.],\n",
       "        [0., 1., 1., 1., 0., 1., 1., 1., 0., 0.],\n",
       "        [0., 0., 1., 1., 1., 0., 1., 1., 1., 0.],\n",
       "        [0., 0., 0., 1., 1., 1., 0., 1., 1., 1.],\n",
       "        [0., 0., 0., 0., 1., 1., 1., 0., 1., 1.],\n",
       "        [0., 0., 0., 0., 0., 1., 1., 1., 0., 1.],\n",
       "        [0., 0., 0., 0., 0., 0., 1., 1., 1., 0.]])"
      ]
     },
     "execution_count": 8,
     "metadata": {},
     "output_type": "execute_result"
    }
   ],
   "source": [
    "def make_diag_mask(size, radius):\n",
    "    '''Квадратная матрица размера Size x Size с двумя полосами ширины radius вдоль главной диагонали'''\n",
    "    idxs = torch.arange(size)\n",
    "    abs_idx_diff = (idxs.unsqueeze(0) - idxs.unsqueeze(1)).abs()\n",
    "    mask = ((abs_idx_diff <= radius) & (abs_idx_diff > 0)).float()\n",
    "    return mask\n",
    "\n",
    "make_diag_mask(10,3)"
   ]
  },
  {
   "cell_type": "code",
   "execution_count": 9,
   "id": "a59d7e65",
   "metadata": {},
   "outputs": [],
   "source": [
    "class SkipGramNegativeSamplingTrainer(nn.Module):\n",
    "    def __init__(self, vocab_size, emb_size, sentence_len, radius=5, negative_samples_n=5):\n",
    "        super().__init__()\n",
    "        self.vocab_size = vocab_size\n",
    "        self.negative_samples_n = negative_samples_n\n",
    "        \n",
    "        self.center_emb = nn.Embedding(self.vocab_size, emb_size, padding_idx=0)\n",
    "        self.center_emb.weight.data.uniform_(-1.0 / emb_size, 1.0 / emb_size)\n",
    "        self.center_emb.weight.data[0] = 0\n",
    "        \n",
    "        self.context_emb = nn.Embedding(self.vocab_size, emb_size, padding_idx=0)\n",
    "        self.context_emb.weight.data.uniform_(-1.0 / emb_size, 1.0 /emb_size)\n",
    "        self.context_emb.weight.data[0] = 0\n",
    "        \n",
    "        self.positive_sim_mask = make_diag_mask(sentence_len, radius)\n",
    "        \n",
    "    def forward(self, sentences):\n",
    "        '''sentences - Batch x MaxSentLength - идентификаторы токена'''\n",
    "        batch_size = sentences.shape[0]\n",
    "        center_embeddings = self.center_emb(sentences) # Batch x MaxSentLength x EmbSize\n",
    "        \n",
    "        # Оценить сходство с настоящими соседними словами\n",
    "        positive_context_embs = self.context_emb(sentences).permute(0, 2, 1) # Batch x EmbSize x MaxSentLength\n",
    "        positive_sims = torch.bmm(center_embeddings, positive_context_embs) # Batch x MaxSentLength x MaxSentLength\n",
    "        positive_probs = torch.sigmoid(positive_sims)\n",
    "        \n",
    "        # Увеличить оценку вероятности встретить эти пары слов вместе\n",
    "        positive_mask = self.positive_sim_mask.to(positive_sims.device)\n",
    "        positive_loss = F.binary_cross_entropy(positive_probs * positive_mask, positive_mask.expand_as(positive_probs))\n",
    "        \n",
    "        # Выбрать случайные \"отрицательные\" слова\n",
    "        negative_words = torch.randint(1, self.vocab_size,\n",
    "                                       size=(batch_size, self.negative_samples_n),\n",
    "                                       device=sentences.device) # Batch x NegSamplesN\n",
    "        negative_context_embs = self.context_emb(negative_words).permute(0, 2, 1) # Batch x EmbSize x NegSamplesN\n",
    "        negative_sims = torch.bmm(center_embeddings, negative_context_embs) # Batch x MaxSentLength x NegSamplesN\n",
    "        \n",
    "        # Уменшить оценку вероятность встретить эти пары слов вместе\n",
    "        negative_loss = F.binary_cross_entropy_with_logits(negative_sims,\n",
    "                                                           negative_sims.new_zeros(negative_sims.shape))\n",
    "        \n",
    "        return positive_loss + negative_loss\n",
    "    \n",
    "def no_loss(pred, target):\n",
    "    '''Фиктивная функция потерь - когда модель сама считает функцию потерь'''\n",
    "    return pred"
   ]
  },
  {
   "cell_type": "markdown",
   "id": "7c2e96dd",
   "metadata": {},
   "source": [
    "# Обучение"
   ]
  },
  {
   "cell_type": "code",
   "execution_count": 10,
   "id": "d38310b1",
   "metadata": {},
   "outputs": [],
   "source": [
    "trainer = SkipGramNegativeSamplingTrainer(len(vocabulary), 100, MAX_SENTENCE_LEN,\n",
    "                                          radius=5, negative_samples_n=25)"
   ]
  },
  {
   "cell_type": "code",
   "execution_count": 11,
   "id": "da2bd355",
   "metadata": {},
   "outputs": [
    {
     "name": "stdout",
     "output_type": "stream",
     "text": [
      "Эпоха 0\n",
      "Эпоха: 2001 итераций, 5.26 сек\n",
      "Среднее значение функции потерь на обучении 0.8888529699960391\n",
      "Среднее значение функции потерь на валидации 0.8809991489482831\n",
      "Новая лучшая модель!\n",
      "\n",
      "Эпоха 1\n",
      "Эпоха: 2001 итераций, 6.44 сек\n",
      "Среднее значение функции потерь на обучении 0.8782551853970133\n",
      "Среднее значение функции потерь на валидации 0.8773991130131532\n",
      "Новая лучшая модель!\n",
      "\n",
      "Эпоха 2\n",
      "Эпоха: 2001 итераций, 6.88 сек\n",
      "Среднее значение функции потерь на обучении 0.8767397079629817\n",
      "Среднее значение функции потерь на валидации 0.8763929458136711\n",
      "Новая лучшая модель!\n",
      "\n",
      "Эпоха 3\n",
      "Эпоха: 2001 итераций, 7.07 сек\n",
      "Среднее значение функции потерь на обучении 0.8759409731653319\n",
      "Среднее значение функции потерь на валидации 0.8766173614376264\n",
      "\n",
      "Эпоха 4\n",
      "Эпоха: 2001 итераций, 7.03 сек\n",
      "Среднее значение функции потерь на обучении 0.8761282419038379\n",
      "Среднее значение функции потерь на валидации 0.876574936085287\n",
      "Epoch     5: reducing learning rate of group 0 to 1.0000e-03.\n",
      "\n",
      "Эпоха 5\n",
      "Эпоха: 2001 итераций, 7.26 сек\n",
      "Среднее значение функции потерь на обучении 0.8728090678078719\n",
      "Среднее значение функции потерь на валидации 0.8721300896387534\n",
      "Новая лучшая модель!\n",
      "\n",
      "Эпоха 6\n",
      "Эпоха: 2001 итераций, 7.39 сек\n",
      "Среднее значение функции потерь на обучении 0.8696211578249038\n",
      "Среднее значение функции потерь на валидации 0.8705271369383039\n",
      "Новая лучшая модель!\n",
      "\n",
      "Эпоха 7\n",
      "Эпоха: 2001 итераций, 7.80 сек\n",
      "Среднее значение функции потерь на обучении 0.8687024464731155\n",
      "Среднее значение функции потерь на валидации 0.8697667613370331\n",
      "Новая лучшая модель!\n",
      "\n",
      "Эпоха 8\n",
      "Эпоха: 2001 итераций, 7.40 сек\n",
      "Среднее значение функции потерь на обучении 0.8676566355887322\n",
      "Среднее значение функции потерь на валидации 0.8692028960894047\n",
      "Новая лучшая модель!\n",
      "\n",
      "Эпоха 9\n",
      "Эпоха: 2001 итераций, 7.46 сек\n",
      "Среднее значение функции потерь на обучении 0.8675642987896597\n",
      "Среднее значение функции потерь на валидации 0.8688443248429941\n",
      "Новая лучшая модель!\n",
      "\n"
     ]
    }
   ],
   "source": [
    "best_val_loss, best_model = train_eval_loop(trainer,\n",
    "                                            train_dataset, \n",
    "                                            test_dataset,\n",
    "                                            no_loss,\n",
    "                                            lr=1e-2,\n",
    "                                            epoch_n=10,\n",
    "                                            batch_size=8,\n",
    "                                            device='cpu',\n",
    "                                            early_stopping_patience=10,\n",
    "                                            max_batches_per_epoch_train=2000,\n",
    "                                            max_batches_per_epoch_val=len(test_dataset),\n",
    "                                            lr_scheduler_ctor=lambda optim: torch.optim.lr_scheduler.ReduceLROnPlateau(optim, patience=1, verbose=True))"
   ]
  },
  {
   "cell_type": "code",
   "execution_count": 12,
   "id": "29aa8b0d",
   "metadata": {},
   "outputs": [],
   "source": [
    "torch.save(trainer.state_dict(), 'models/sgns.pth')"
   ]
  },
  {
   "cell_type": "code",
   "execution_count": 13,
   "id": "07949d91",
   "metadata": {},
   "outputs": [
    {
     "data": {
      "text/plain": [
       "<All keys matched successfully>"
      ]
     },
     "execution_count": 13,
     "metadata": {},
     "output_type": "execute_result"
    }
   ],
   "source": [
    "trainer.load_state_dict(torch.load('models/sgns.pth'))"
   ]
  },
  {
   "cell_type": "markdown",
   "id": "41c8fe7d",
   "metadata": {},
   "source": [
    "# Исследуем характеристики полученных векторов"
   ]
  },
  {
   "cell_type": "code",
   "execution_count": 14,
   "id": "20af1715",
   "metadata": {},
   "outputs": [],
   "source": [
    "embeddings = Embeddings(trainer.center_emb.weight.detach().cpu().numpy(), vocabulary)"
   ]
  },
  {
   "cell_type": "code",
   "execution_count": 15,
   "id": "63a88302",
   "metadata": {},
   "outputs": [
    {
     "data": {
      "text/plain": [
       "[('cheese', 0.99993753),\n",
       " ('cheddar', 0.62623024),\n",
       " ('fontina', 0.6255127),\n",
       " ('pecorino', 0.61320126),\n",
       " ('fresco', 0.5945113),\n",
       " ('gruyere', 0.5870858),\n",
       " ('parmesan', 0.579009),\n",
       " ('feta', 0.5620345),\n",
       " ('goat', 0.5555739),\n",
       " ('ricotta', 0.5543665)]"
      ]
     },
     "execution_count": 15,
     "metadata": {},
     "output_type": "execute_result"
    }
   ],
   "source": [
    "embeddings.most_similar('cheese')"
   ]
  },
  {
   "cell_type": "code",
   "execution_count": 16,
   "id": "514c850b",
   "metadata": {},
   "outputs": [
    {
     "data": {
      "text/plain": [
       "[('chicken', 0.9999326),\n",
       " ('turkey', 0.6216017),\n",
       " ('stock', 0.5860004),\n",
       " ('boneless', 0.55166346),\n",
       " ('skinless', 0.527776),\n",
       " ('breast', 0.52496886),\n",
       " ('beef', 0.5207605),\n",
       " ('broth', 0.51901996),\n",
       " ('thighs', 0.4977486),\n",
       " ('breasts', 0.49129856)]"
      ]
     },
     "execution_count": 16,
     "metadata": {},
     "output_type": "execute_result"
    }
   ],
   "source": [
    "embeddings.most_similar('chicken')"
   ]
  },
  {
   "cell_type": "code",
   "execution_count": 17,
   "id": "1861f77c",
   "metadata": {},
   "outputs": [
    {
     "data": {
      "text/plain": [
       "[('cacao', 1.0335585),\n",
       " ('cheese', 0.8674445),\n",
       " ('fromage', 0.72089297),\n",
       " ('goat', 0.69108635),\n",
       " ('provolone', 0.6894897),\n",
       " ('fresco', 0.6355126),\n",
       " ('cassis', 0.61678785),\n",
       " ('crema', 0.6141019),\n",
       " ('pecorino', 0.6017085),\n",
       " ('shaving', 0.59396845)]"
      ]
     },
     "execution_count": 17,
     "metadata": {},
     "output_type": "execute_result"
    }
   ],
   "source": [
    "embeddings.analogy('cake','cacao','cheese')"
   ]
  },
  {
   "cell_type": "code",
   "execution_count": 18,
   "id": "c29f24d0",
   "metadata": {},
   "outputs": [
    {
     "name": "stdout",
     "output_type": "stream",
     "text": [
      "(18, 100)\n"
     ]
    }
   ],
   "source": [
    "test_words = ['salad', 'fish', 'salmon', 'sauvignon', 'beef', 'pork', 'steak', 'beer', 'cake', 'coffee',\n",
    "              'sausage', 'wine', 'merlot', 'zinfandel', 'trout', 'chardonnay', 'champagne', 'cacao']\n",
    "test_vectors = embeddings.get_vectors(*test_words)\n",
    "print(test_vectors.shape)"
   ]
  },
  {
   "cell_type": "code",
   "execution_count": 19,
   "id": "25c05d86",
   "metadata": {},
   "outputs": [
    {
     "data": {
      "image/png": "[encoded data removed]",
      "text/plain": [
       "<Figure size 720x720 with 1 Axes>"
      ]
     },
     "metadata": {
      "needs_background": "light"
     },
     "output_type": "display_data"
    }
   ],
   "source": [
    "fig, ax = plt.subplots()\n",
    "fig.set_size_inches((10, 10))\n",
    "plot_vectors(test_vectors, test_words, how='svd', ax=ax)"
   ]
  },
  {
   "cell_type": "markdown",
   "id": "fed5d5c9",
   "metadata": {},
   "source": [
    "# Обучение Word2Vec с помощью Gensim"
   ]
  },
  {
   "cell_type": "code",
   "execution_count": 20,
   "id": "0d3effba",
   "metadata": {},
   "outputs": [
    {
     "data": {
      "text/plain": [
       "'4.1.2'"
      ]
     },
     "execution_count": 20,
     "metadata": {},
     "output_type": "execute_result"
    }
   ],
   "source": [
    "import gensim\n",
    "\n",
    "gensim.__version__"
   ]
  },
  {
   "cell_type": "code",
   "execution_count": 21,
   "id": "96ab60d9",
   "metadata": {},
   "outputs": [],
   "source": [
    "word2vec = gensim.models.Word2Vec(sentences=train_tokenized, vector_size=100,\n",
    "                                  window=5, min_count=5, workers=4,\n",
    "                                  sg=1, epochs=10)"
   ]
  },
  {
   "cell_type": "code",
   "execution_count": 22,
   "id": "5afd7f56",
   "metadata": {},
   "outputs": [
    {
     "data": {
      "text/plain": [
       "[('salata', 0.7982722520828247),\n",
       " ('feta', 0.7553258538246155),\n",
       " ('monterey', 0.7518267035484314),\n",
       " ('ricotta', 0.744574248790741),\n",
       " ('pecorino', 0.7389222383499146),\n",
       " ('gruyere', 0.7329368591308594),\n",
       " ('queso', 0.7288451194763184),\n",
       " ('gouda', 0.7167126536369324),\n",
       " ('cheddar', 0.7110119462013245),\n",
       " ('fontina', 0.70868319272995)]"
      ]
     },
     "execution_count": 22,
     "metadata": {},
     "output_type": "execute_result"
    }
   ],
   "source": [
    "word2vec.wv.most_similar('cheese')"
   ]
  },
  {
   "cell_type": "code",
   "execution_count": 23,
   "id": "364b1857",
   "metadata": {},
   "outputs": [
    {
     "data": {
      "text/plain": [
       "[('duck', 0.7326300144195557),\n",
       " ('turkey', 0.703337550163269),\n",
       " ('thighs', 0.6928684115409851),\n",
       " ('pheasant', 0.6928550601005554),\n",
       " ('simmering', 0.6907886862754822),\n",
       " ('drumsticks', 0.6694809198379517),\n",
       " ('breasts', 0.6549013257026672),\n",
       " ('defatted', 0.6498094201087952),\n",
       " ('wings', 0.6476139426231384),\n",
       " ('magret', 0.6452682018280029)]"
      ]
     },
     "execution_count": 23,
     "metadata": {},
     "output_type": "execute_result"
    }
   ],
   "source": [
    "word2vec.wv.most_similar('chicken')"
   ]
  },
  {
   "cell_type": "code",
   "execution_count": 24,
   "id": "1c37a733",
   "metadata": {},
   "outputs": [],
   "source": [
    "gensim_words = [w for w in test_words if w in word2vec.wv.key_to_index]\n",
    "gensim_vectors = np.stack([word2vec.wv[w] for w in gensim_words])"
   ]
  },
  {
   "cell_type": "code",
   "execution_count": 25,
   "id": "64533192",
   "metadata": {},
   "outputs": [
    {
     "data": {
      "image/png": "[encoded data removed]",
      "text/plain": [
       "<Figure size 720x720 with 1 Axes>"
      ]
     },
     "metadata": {
      "needs_background": "light"
     },
     "output_type": "display_data"
    }
   ],
   "source": [
    "fig, ax = plt.subplots()\n",
    "fig.set_size_inches((10, 10))\n",
    "plot_vectors(gensim_vectors, test_words, how='svd', ax=ax)"
   ]
  },
  {
   "cell_type": "markdown",
   "id": "ef058f9e",
   "metadata": {},
   "source": [
    "# Загрузка предобученного Word2Vec\n",
    "\n",
    "Источники готовых векторов:\n",
    "\n",
    "https://rusvectores.org/ru/ - для русского языка\n",
    "\n",
    "https://wikipedia2vec.github.io/wikipedia2vec/pretrained/ - много разных языков"
   ]
  },
  {
   "cell_type": "code",
   "execution_count": 26,
   "id": "ebf4c0a8",
   "metadata": {},
   "outputs": [],
   "source": [
    "import gensim.downloader as api"
   ]
  },
  {
   "cell_type": "code",
   "execution_count": 27,
   "id": "4735810d",
   "metadata": {},
   "outputs": [
    {
     "name": "stdout",
     "output_type": "stream",
     "text": [
      "fasttext-wiki-news-subwords-300\n",
      "conceptnet-numberbatch-17-06-300\n",
      "word2vec-ruscorpora-300\n",
      "word2vec-google-news-300\n",
      "glove-wiki-gigaword-50\n",
      "glove-wiki-gigaword-100\n",
      "glove-wiki-gigaword-200\n",
      "glove-wiki-gigaword-300\n",
      "glove-twitter-25\n",
      "glove-twitter-50\n",
      "glove-twitter-100\n",
      "glove-twitter-200\n",
      "__testing_word2vec-matrix-synopsis\n"
     ]
    }
   ],
   "source": [
    "available_models = api.info()['models'].keys()\n",
    "print('\\n'.join(available_models))"
   ]
  },
  {
   "cell_type": "code",
   "execution_count": 28,
   "id": "d6fa753a",
   "metadata": {
    "scrolled": true
   },
   "outputs": [],
   "source": [
    "pretrained = api.load('word2vec-google-news-300') # >1.5 GB!"
   ]
  },
  {
   "cell_type": "code",
   "execution_count": 29,
   "id": "e76062bc",
   "metadata": {},
   "outputs": [
    {
     "data": {
      "text/plain": [
       "[('cheeses', 0.7788999676704407),\n",
       " ('cheddar', 0.7627597451210022),\n",
       " ('goat_cheese', 0.7297402024269104),\n",
       " ('Cheese', 0.7286962270736694),\n",
       " ('cheddar_cheese', 0.725513756275177),\n",
       " ('Cheddar_cheese', 0.6943709254264832),\n",
       " ('mozzarella', 0.6805710196495056),\n",
       " ('cheddar_cheeses', 0.6694672107696533),\n",
       " ('Camembert', 0.6623161435127258),\n",
       " ('gruyere', 0.6615148186683655)]"
      ]
     },
     "execution_count": 29,
     "metadata": {},
     "output_type": "execute_result"
    }
   ],
   "source": [
    "pretrained.most_similar('cheese')"
   ]
  },
  {
   "cell_type": "code",
   "execution_count": 30,
   "id": "16d662b6",
   "metadata": {},
   "outputs": [
    {
     "data": {
      "text/plain": [
       "[('meat', 0.6799131631851196),\n",
       " ('Chicken', 0.6726199984550476),\n",
       " ('chickens', 0.6597973704338074),\n",
       " ('poultry', 0.6559159755706787),\n",
       " ('pork', 0.6541996598243713),\n",
       " ('grilled_herbed', 0.651627242565155),\n",
       " ('pasta_fazool', 0.6511082649230957),\n",
       " ('boneless_chicken', 0.6347483396530151),\n",
       " ('turkey', 0.6282519698143005),\n",
       " ('rotisserie_roasted', 0.6275515556335449)]"
      ]
     },
     "execution_count": 30,
     "metadata": {},
     "output_type": "execute_result"
    }
   ],
   "source": [
    "pretrained.most_similar('chicken')"
   ]
  },
  {
   "cell_type": "code",
   "execution_count": 31,
   "id": "a990f159",
   "metadata": {},
   "outputs": [
    {
     "data": {
      "text/plain": [
       "[('woman', 0.7609436511993408),\n",
       " ('girl', 0.6139993667602539),\n",
       " ('teenage_girl', 0.6040961742401123),\n",
       " ('teenager', 0.5825759172439575),\n",
       " ('lady', 0.5752554535865784),\n",
       " ('boy', 0.5077577233314514),\n",
       " ('policewoman', 0.5066847801208496),\n",
       " ('schoolgirl', 0.5052096247673035),\n",
       " ('blonde', 0.4869619309902191),\n",
       " ('person', 0.48637545108795166)]"
      ]
     },
     "execution_count": 31,
     "metadata": {},
     "output_type": "execute_result"
    }
   ],
   "source": [
    "pretrained.most_similar(positive=['man', 'queen'], negative=['king'])"
   ]
  },
  {
   "cell_type": "code",
   "execution_count": 32,
   "id": "3f5162b1",
   "metadata": {},
   "outputs": [],
   "source": [
    "pretrained_words = [w for w in test_words if w in pretrained.key_to_index]\n",
    "pretrained_vectors = np.stack([pretrained[w] for w in pretrained_words])"
   ]
  },
  {
   "cell_type": "code",
   "execution_count": 33,
   "id": "37b821cd",
   "metadata": {},
   "outputs": [
    {
     "data": {
      "image/png": "[encoded data removed]",
      "text/plain": [
       "<Figure size 720x720 with 1 Axes>"
      ]
     },
     "metadata": {
      "needs_background": "light"
     },
     "output_type": "display_data"
    }
   ],
   "source": [
    "fig, ax = plt.subplots()\n",
    "fig.set_size_inches((10, 10))\n",
    "plot_vectors(pretrained_vectors, test_words, how='svd', ax=ax)"
   ]
  },
  {
   "cell_type": "markdown",
   "id": "682dd46b",
   "metadata": {},
   "source": [
    "# Заключение\n",
    "\n",
    "* Реализовали Skip Gram Negative Sampling на PyTorch\n",
    "* Обучили на корпусе рецептов\n",
    "    * Сходство слов модель выучила неплохо\n",
    "    * Для аналогий мало данных\n",
    "* Обучили SGNS с помощью библиотеки Gensim\n",
    "* Загрузили веса Word2Vec, полученные с помощью большого корпуса (GoogleNews)\n",
    "    * Списки похожих слов отличаются!\n",
    "    * Аналогии работают"
   ]
  }
 ],
 "metadata": {
  "kernelspec": {
   "display_name": "Python 3",
   "language": "python",
   "name": "python3"
  },
  "language_info": {
   "codemirror_mode": {
    "name": "ipython",
    "version": 3
   },
   "file_extension": ".py",
   "mimetype": "text/x-python",
   "name": "python",
   "nbconvert_exporter": "python",
   "pygments_lexer": "ipython3",
   "version": "3.8.8"
  }
 },
 "nbformat": 4,
 "nbformat_minor": 5
}
