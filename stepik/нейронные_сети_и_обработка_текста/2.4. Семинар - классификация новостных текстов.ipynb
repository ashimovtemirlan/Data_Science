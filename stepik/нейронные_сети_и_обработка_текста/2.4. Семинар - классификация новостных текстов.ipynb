{
 "cells": [
  {
   "cell_type": "code",
   "execution_count": 1,
   "id": "00507cdd",
   "metadata": {},
   "outputs": [],
   "source": [
    "import warnings\n",
    "warnings.filterwarnings('ignore')\n",
    "\n",
    "from sklearn.datasets import fetch_20newsgroups\n",
    "from sklearn.metrics import accuracy_score\n",
    "\n",
    "import numpy as np\n",
    "\n",
    "import matplotlib.pyplot as plt\n",
    "%matplotlib inline\n",
    "\n",
    "import collections\n",
    "\n",
    "import torch\n",
    "from torch import nn\n",
    "from torch.nn import functional as F\n",
    "\n",
    "import dlnlputils\n",
    "from dlnlputils.data import tokenize_text_simple_regex, tokenize_corpus, build_vocabulary,\\\n",
    "    vectorize_texts, SparseFeaturesDataset\n",
    "from dlnlputils.pipeline import train_eval_loop, predict_with_model, init_random_seed\n",
    "\n",
    "init_random_seed()"
   ]
  },
  {
   "cell_type": "markdown",
   "id": "56e065fd",
   "metadata": {},
   "source": [
    "# Предобработка текстов и подготовка признаков"
   ]
  },
  {
   "cell_type": "code",
   "execution_count": 2,
   "id": "bc1a2472",
   "metadata": {},
   "outputs": [
    {
     "name": "stdout",
     "output_type": "stream",
     "text": [
      "Кол-во обучающих текстов - 11314\n",
      "Кол-во тестовых текстов - 7532\n",
      "\n",
      "From: lerxst@wam.umd.edu (where's my thing)\n",
      "Subject: WHAT car is this!?\n",
      "Nntp-Posting-Host: rac3.wam.umd.edu\n",
      "Organization: University of Maryland, College Park\n",
      "Lines: 15\n",
      "\n",
      " I was wondering if anyone out there could enlighten me on this car I saw\n",
      "the other day. It was a 2-door sports car, looked to be from the late 60s/\n",
      "early 70s. It was called a Bricklin. The doors were really small. In addition,\n",
      "the front bumper was separate from the rest of the body. This is \n",
      "all I know. If anyone can tellme a model name, engine specs, years\n",
      "of production, where this car is made, history, or whatever info you\n",
      "have on this funky looking car, please e-mail.\n",
      "\n",
      "Thanks,\n",
      "- IL\n",
      "   ---- brought to you by your neighborhood Lerxst ----\n",
      "\n",
      "Метка - 7\n"
     ]
    }
   ],
   "source": [
    "train_source = fetch_20newsgroups(subset='train')\n",
    "test_source = fetch_20newsgroups(subset='test')\n",
    "\n",
    "print(f\"Кол-во обучающих текстов - {len(train_source['data'])}\")\n",
    "print(f\"Кол-во тестовых текстов - {len(test_source['data'])}\")\n",
    "print()\n",
    "print(train_source['data'][0].strip())\n",
    "\n",
    "print()\n",
    "print(f\"Метка - {train_source['target'][0]}\")"
   ]
  },
  {
   "cell_type": "markdown",
   "id": "2d94daac",
   "metadata": {},
   "source": [
    "### Подготовка признаков"
   ]
  },
  {
   "cell_type": "code",
   "execution_count": 3,
   "id": "91fa7e47",
   "metadata": {
    "scrolled": true
   },
   "outputs": [
    {
     "name": "stdout",
     "output_type": "stream",
     "text": [
      "from lerxst where thing subject what this nntp posting host rac3 organization university maryland college park lines wondering anyone there could enlighten this other door sports looked from late early called bricklin doors were really small addition front bumper separate from rest body this know anyone tellme model name engine specs years production where this made history whatever info have this funky looking please mail thanks brought your neighborhood lerxst\n"
     ]
    }
   ],
   "source": [
    "train_tokenized = tokenize_corpus(train_source['data'])\n",
    "test_tokenized = tokenize_corpus(test_source['data'])\n",
    "\n",
    "print(' '.join(train_tokenized[0]))"
   ]
  },
  {
   "cell_type": "code",
   "execution_count": 4,
   "id": "53e5f0b9",
   "metadata": {},
   "outputs": [
    {
     "name": "stdout",
     "output_type": "stream",
     "text": [
      "Кол-во уникальных токенов - 21628\n",
      "[('that', 0), ('this', 1), ('have', 2), ('with', 3), ('writes', 4), ('article', 5), ('posting', 6), ('host', 7), ('nntp', 8), ('there', 9)]\n"
     ]
    }
   ],
   "source": [
    "MAX_DF = 0.8\n",
    "MIN_COUNT = 5\n",
    "vocabulary, word_doc_freq = build_vocabulary(train_tokenized,\n",
    "                                             max_doc_freq=MAX_DF,\n",
    "                                             min_count=MIN_COUNT)\n",
    "UNIQUE_WORDS_N = len(vocabulary)\n",
    "print(f\"Кол-во уникальных токенов - {UNIQUE_WORDS_N}\")\n",
    "print(list(vocabulary.items())[:10])"
   ]
  },
  {
   "cell_type": "code",
   "execution_count": 5,
   "id": "7eb60f15",
   "metadata": {},
   "outputs": [
    {
     "data": {
      "image/png": "[encoded data removed]",
      "text/plain": [
       "<Figure size 432x288 with 1 Axes>"
      ]
     },
     "metadata": {
      "needs_background": "light"
     },
     "output_type": "display_data"
    }
   ],
   "source": [
    "plt.hist(word_doc_freq, bins=20)\n",
    "plt.title('Распределение относительных частот слов')\n",
    "plt.yscale('log')"
   ]
  },
  {
   "cell_type": "code",
   "execution_count": 6,
   "id": "26ed59cc",
   "metadata": {},
   "outputs": [
    {
     "name": "stdout",
     "output_type": "stream",
     "text": [
      "Размерность матрицы признаков обучающей выборки - (11314, 21628)\n",
      "Размерность матрицы признаков тестовой выборки - (7532, 21628)\n",
      "\n",
      "Кол-во ненулевых элементов в обучающей выборке - 1126792\n",
      "Процент заполненности матрицы признаков 0.46%\n",
      "Кол-во ненулевых элементов в тестовой выборке - 721529\n",
      "Процент заполненности матрицы признаков 0.44%\n"
     ]
    }
   ],
   "source": [
    "VECTORIZATION_MODE = 'tfidf'\n",
    "train_vectors = vectorize_texts(train_tokenized, vocabulary, word_doc_freq, mode=VECTORIZATION_MODE)\n",
    "test_vectors = vectorize_texts(test_tokenized, vocabulary, word_doc_freq, mode=VECTORIZATION_MODE)\n",
    "\n",
    "print(f'Размерность матрицы признаков обучающей выборки - {train_vectors.shape}')\n",
    "print(f'Размерность матрицы признаков тестовой выборки - {test_vectors.shape}')\n",
    "print()\n",
    "print(f'Кол-во ненулевых элементов в обучающей выборке - {train_vectors.nnz}')\n",
    "print('Процент заполненности матрицы признаков {:.2f}%'.format(\n",
    "    train_vectors.nnz * 100 / (train_vectors.shape[0] * train_vectors.shape[1])))\n",
    "print(f'Кол-во ненулевых элементов в тестовой выборке - {test_vectors.nnz}')\n",
    "print('Процент заполненности матрицы признаков {:.2f}%'.format(\n",
    "    test_vectors.nnz * 100 / (test_vectors.shape[0] * test_vectors.shape[1])))"
   ]
  },
  {
   "cell_type": "code",
   "execution_count": 7,
   "id": "3ff3e14a",
   "metadata": {},
   "outputs": [
    {
     "data": {
      "image/png": "[encoded data removed]",
      "text/plain": [
       "<Figure size 432x288 with 1 Axes>"
      ]
     },
     "metadata": {
      "needs_background": "light"
     },
     "output_type": "display_data"
    }
   ],
   "source": [
    "plt.hist(train_vectors.data, bins=20)\n",
    "plt.title('Рапределение весов признаков')\n",
    "plt.yscale('log')"
   ]
  },
  {
   "cell_type": "markdown",
   "id": "332cd669",
   "metadata": {},
   "source": [
    "### Распределение классов"
   ]
  },
  {
   "cell_type": "code",
   "execution_count": 8,
   "id": "c70ea113",
   "metadata": {},
   "outputs": [
    {
     "name": "stdout",
     "output_type": "stream",
     "text": [
      "Кол-во уникальных меток - 20\n"
     ]
    }
   ],
   "source": [
    "UNIQUE_LABELS_N = len(set(train_source['target']))\n",
    "print(f'Кол-во уникальных меток - {UNIQUE_LABELS_N}')"
   ]
  },
  {
   "cell_type": "code",
   "execution_count": 9,
   "id": "5ac91ea4",
   "metadata": {},
   "outputs": [
    {
     "data": {
      "text/plain": [
       "Text(0.5, 1.0, 'Распределение меток в обучающей выборке')"
      ]
     },
     "execution_count": 9,
     "metadata": {},
     "output_type": "execute_result"
    },
    {
     "data": {
      "image/png": "[encoded data removed]",
      "text/plain": [
       "<Figure size 432x288 with 1 Axes>"
      ]
     },
     "metadata": {
      "needs_background": "light"
     },
     "output_type": "display_data"
    }
   ],
   "source": [
    "plt.hist(train_source['target'], bins=np.arange(0, 21))\n",
    "plt.title('Распределение меток в обучающей выборке')"
   ]
  },
  {
   "cell_type": "code",
   "execution_count": 10,
   "id": "7fdb484b",
   "metadata": {},
   "outputs": [
    {
     "data": {
      "text/plain": [
       "Text(0.5, 1.0, 'Распределение меток в тестовой выборке')"
      ]
     },
     "execution_count": 10,
     "metadata": {},
     "output_type": "execute_result"
    },
    {
     "data": {
      "image/png": "[encoded data removed]",
      "text/plain": [
       "<Figure size 432x288 with 1 Axes>"
      ]
     },
     "metadata": {
      "needs_background": "light"
     },
     "output_type": "display_data"
    }
   ],
   "source": [
    "plt.hist(test_source['target'], bins=np.arange(0, 21))\n",
    "plt.title('Распределение меток в тестовой выборке')"
   ]
  },
  {
   "cell_type": "markdown",
   "id": "290539cb",
   "metadata": {},
   "source": [
    "### PyTorch Dataset"
   ]
  },
  {
   "cell_type": "code",
   "execution_count": 11,
   "id": "c818bc0c",
   "metadata": {},
   "outputs": [],
   "source": [
    "train_dataset = SparseFeaturesDataset(train_vectors, train_source['target'])\n",
    "test_dataset = SparseFeaturesDataset(test_vectors, test_source['target'])"
   ]
  },
  {
   "cell_type": "markdown",
   "id": "9365ea1e",
   "metadata": {},
   "source": [
    "# Обучение модели на PyTorch"
   ]
  },
  {
   "cell_type": "code",
   "execution_count": 12,
   "id": "87923930",
   "metadata": {
    "scrolled": true
   },
   "outputs": [
    {
     "name": "stdout",
     "output_type": "stream",
     "text": [
      "Эпоха 0\n",
      "Эпоха: 354 итераций, 2.44 сек\n",
      "Среднее значение функции потерь на обучении 2.225263512740701\n",
      "Среднее значение функции потерь на валидации 2.113702099202043\n",
      "Новая лучшая модель!\n",
      "\n",
      "Эпоха 1\n",
      "Эпоха: 354 итераций, 2.44 сек\n",
      "Среднее значение функции потерь на обучении 0.9165941316024059\n",
      "Среднее значение функции потерь на валидации 1.6821965161016432\n",
      "Новая лучшая модель!\n",
      "\n",
      "Эпоха 2\n",
      "Эпоха: 354 итераций, 2.47 сек\n",
      "Среднее значение функции потерь на обучении 0.4660179071170462\n",
      "Среднее значение функции потерь на валидации 1.4643912370932304\n",
      "Новая лучшая модель!\n",
      "\n",
      "Эпоха 3\n",
      "Эпоха: 354 итераций, 2.42 сек\n",
      "Среднее значение функции потерь на обучении 0.2836364033279446\n",
      "Среднее значение функции потерь на валидации 1.3450380030830027\n",
      "Новая лучшая модель!\n",
      "\n",
      "Эпоха 4\n",
      "Эпоха: 354 итераций, 2.55 сек\n",
      "Среднее значение функции потерь на обучении 0.19072467734837262\n",
      "Среднее значение функции потерь на валидации 1.2602417269500636\n",
      "Новая лучшая модель!\n",
      "\n",
      "Эпоха 5\n",
      "Эпоха: 354 итераций, 2.50 сек\n",
      "Среднее значение функции потерь на обучении 0.13643492877188712\n",
      "Среднее значение функции потерь на валидации 1.2005362980446572\n",
      "Новая лучшая модель!\n",
      "\n",
      "Эпоха 6\n",
      "Эпоха: 354 итераций, 2.63 сек\n",
      "Среднее значение функции потерь на обучении 0.10175179878491802\n",
      "Среднее значение функции потерь на валидации 1.1543827857506477\n",
      "Новая лучшая модель!\n",
      "\n",
      "Эпоха 7\n",
      "Эпоха: 354 итераций, 2.57 сек\n",
      "Среднее значение функции потерь на обучении 0.07793654497228773\n",
      "Среднее значение функции потерь на валидации 1.1209711866863703\n",
      "Новая лучшая модель!\n",
      "\n",
      "Эпоха 8\n",
      "Эпоха: 354 итераций, 2.54 сек\n",
      "Среднее значение функции потерь на обучении 0.06176988026495539\n",
      "Среднее значение функции потерь на валидации 1.0886677498534574\n",
      "Новая лучшая модель!\n",
      "\n",
      "Эпоха 9\n",
      "Эпоха: 354 итераций, 2.43 сек\n",
      "Среднее значение функции потерь на обучении 0.04921782596068362\n",
      "Среднее значение функции потерь на валидации 1.0575779476913356\n",
      "Новая лучшая модель!\n",
      "\n",
      "Эпоха 10\n",
      "Эпоха: 354 итераций, 2.53 сек\n",
      "Среднее значение функции потерь на обучении 0.040086840232044965\n",
      "Среднее значение функции потерь на валидации 1.0522266495025765\n",
      "Новая лучшая модель!\n",
      "\n",
      "Эпоха 11\n",
      "Эпоха: 354 итераций, 2.45 сек\n",
      "Среднее значение функции потерь на обучении 0.03305456175147898\n",
      "Среднее значение функции потерь на валидации 1.0252122985104384\n",
      "Новая лучшая модель!\n",
      "\n",
      "Эпоха 12\n",
      "Эпоха: 354 итераций, 2.51 сек\n",
      "Среднее значение функции потерь на обучении 0.027422133233335057\n",
      "Среднее значение функции потерь на валидации 1.0233966054047567\n",
      "Новая лучшая модель!\n",
      "\n",
      "Эпоха 13\n",
      "Эпоха: 354 итераций, 2.48 сек\n",
      "Среднее значение функции потерь на обучении 0.023065842943276557\n",
      "Среднее значение функции потерь на валидации 1.0005412861957388\n",
      "Новая лучшая модель!\n",
      "\n",
      "Эпоха 14\n",
      "Эпоха: 354 итераций, 2.53 сек\n",
      "Среднее значение функции потерь на обучении 0.01953016176404126\n",
      "Среднее значение функции потерь на валидации 0.9915602981286534\n",
      "Новая лучшая модель!\n",
      "\n",
      "Эпоха 15\n",
      "Эпоха: 354 итераций, 2.51 сек\n",
      "Среднее значение функции потерь на обучении 0.016497776580521952\n",
      "Среднее значение функции потерь на валидации 0.9758766648375382\n",
      "Новая лучшая модель!\n",
      "\n",
      "Эпоха 16\n",
      "Эпоха: 354 итераций, 2.52 сек\n",
      "Среднее значение функции потерь на обучении 0.013959757733095627\n",
      "Среднее значение функции потерь на валидации 0.9762122865955708\n",
      "\n",
      "Эпоха 17\n",
      "Эпоха: 354 итераций, 2.56 сек\n",
      "Среднее значение функции потерь на обучении 0.012367781237528085\n",
      "Среднее значение функции потерь на валидации 0.9614291058505996\n",
      "Новая лучшая модель!\n",
      "\n",
      "Эпоха 18\n",
      "Эпоха: 354 итераций, 2.45 сек\n",
      "Среднее значение функции потерь на обучении 0.010551437290285393\n",
      "Среднее значение функции потерь на валидации 0.9536924915293515\n",
      "Новая лучшая модель!\n",
      "\n",
      "Эпоха 19\n",
      "Эпоха: 354 итераций, 2.47 сек\n",
      "Среднее значение функции потерь на обучении 0.009276768616874213\n",
      "Среднее значение функции потерь на валидации 0.9553862625764589\n",
      "\n",
      "Эпоха 20\n",
      "Эпоха: 354 итераций, 2.55 сек\n",
      "Среднее значение функции потерь на обучении 0.008060240543889418\n",
      "Среднее значение функции потерь на валидации 0.9670789986848831\n",
      "\n",
      "Эпоха 21\n",
      "Эпоха: 354 итераций, 2.54 сек\n",
      "Среднее значение функции потерь на обучении 0.007328647844253982\n",
      "Среднее значение функции потерь на валидации 0.9403586704599656\n",
      "Новая лучшая модель!\n",
      "\n",
      "Эпоха 22\n",
      "Эпоха: 354 итераций, 2.53 сек\n",
      "Среднее значение функции потерь на обучении 0.006772744578853944\n",
      "Среднее значение функции потерь на валидации 0.9329062512112876\n",
      "Новая лучшая модель!\n",
      "\n",
      "Эпоха 23\n",
      "Эпоха: 354 итераций, 2.53 сек\n",
      "Среднее значение функции потерь на обучении 0.005589819822715606\n",
      "Среднее значение функции потерь на валидации 0.9329809088070514\n",
      "\n",
      "Эпоха 24\n",
      "Эпоха: 354 итераций, 2.56 сек\n",
      "Среднее значение функции потерь на обучении 0.005256618646869309\n",
      "Среднее значение функции потерь на валидации 0.9690101279293076\n",
      "\n",
      "Эпоха 25\n",
      "Эпоха: 354 итераций, 2.54 сек\n",
      "Среднее значение функции потерь на обучении 0.00476921406014833\n",
      "Среднее значение функции потерь на валидации 0.943758865155406\n",
      "\n",
      "Эпоха 26\n",
      "Эпоха: 354 итераций, 2.53 сек\n",
      "Среднее значение функции потерь на обучении 0.004408717446330419\n",
      "Среднее значение функции потерь на валидации 0.9343382360066398\n",
      "\n",
      "Эпоха 27\n",
      "Эпоха: 354 итераций, 2.55 сек\n",
      "Среднее значение функции потерь на обучении 0.004121567474350617\n",
      "Среднее значение функции потерь на валидации 0.9609640806408252\n",
      "\n",
      "Эпоха 28\n",
      "Эпоха: 354 итераций, 2.54 сек\n",
      "Среднее значение функции потерь на обучении 0.004164906648134991\n",
      "Среднее значение функции потерь на валидации 0.9498728275046511\n",
      "Epoch    29: reducing learning rate of group 0 to 5.0000e-02.\n",
      "\n",
      "Эпоха 29\n",
      "Эпоха: 354 итераций, 2.45 сек\n",
      "Среднее значение функции потерь на обучении 0.0032320527521311963\n",
      "Среднее значение функции потерь на валидации 0.9344259980371443\n",
      "\n",
      "Эпоха 30\n",
      "Эпоха: 354 итераций, 2.54 сек\n",
      "Среднее значение функции потерь на обучении 0.0029576745459423165\n",
      "Среднее значение функции потерь на валидации 0.9425001245434002\n",
      "\n",
      "Эпоха 31\n",
      "Эпоха: 354 итераций, 2.49 сек\n",
      "Среднее значение функции потерь на обучении 0.0028751810311667338\n",
      "Среднее значение функции потерь на валидации 0.9348595954351506\n",
      "\n",
      "Эпоха 32\n",
      "Эпоха: 354 итераций, 2.50 сек\n",
      "Среднее значение функции потерь на обучении 0.0026018119175092312\n",
      "Среднее значение функции потерь на валидации 0.930629019388708\n",
      "Новая лучшая модель!\n",
      "\n",
      "Эпоха 33\n",
      "Эпоха: 354 итераций, 2.55 сек\n",
      "Среднее значение функции потерь на обучении 0.002713251663033198\n",
      "Среднее значение функции потерь на валидации 0.9447238020977732\n",
      "\n",
      "Эпоха 34\n",
      "Эпоха: 354 итераций, 2.54 сек\n",
      "Среднее значение функции потерь на обучении 0.00253475991509839\n",
      "Среднее значение функции потерь на валидации 0.9425567786319781\n",
      "\n",
      "Эпоха 35\n",
      "Эпоха: 354 итераций, 2.56 сек\n",
      "Среднее значение функции потерь на обучении 0.0026106500316501365\n",
      "Среднее значение функции потерь на валидации 0.9399334691086058\n",
      "\n",
      "Эпоха 36\n",
      "Эпоха: 354 итераций, 2.61 сек\n",
      "Среднее значение функции потерь на обучении 0.0024109310298282677\n",
      "Среднее значение функции потерь на валидации 0.9386605237752704\n",
      "\n",
      "Эпоха 37\n",
      "Эпоха: 354 итераций, 2.56 сек\n",
      "Среднее значение функции потерь на обучении 0.0023538234675619463\n",
      "Среднее значение функции потерь на валидации 0.9419004745402578\n",
      "\n",
      "Эпоха 38\n",
      "Эпоха: 354 итераций, 2.55 сек\n",
      "Среднее значение функции потерь на обучении 0.002311124307521761\n",
      "Среднее значение функции потерь на валидации 0.9422700561709323\n",
      "Epoch    39: reducing learning rate of group 0 to 2.5000e-02.\n",
      "\n",
      "Эпоха 39\n",
      "Эпоха: 354 итераций, 2.52 сек\n",
      "Среднее значение функции потерь на обучении 0.0019421872654012246\n",
      "Среднее значение функции потерь на валидации 0.9435685549752187\n",
      "\n",
      "Эпоха 40\n",
      "Эпоха: 354 итераций, 2.57 сек\n",
      "Среднее значение функции потерь на обучении 0.0018815698621217109\n",
      "Среднее значение функции потерь на валидации 0.939619709879665\n",
      "\n",
      "Эпоха 41\n",
      "Эпоха: 354 итераций, 2.55 сек\n",
      "Среднее значение функции потерь на обучении 0.0018609632131358145\n",
      "Среднее значение функции потерь на валидации 0.9446340114888498\n",
      "\n",
      "Эпоха 42\n",
      "Эпоха: 354 итераций, 2.49 сек\n",
      "Среднее значение функции потерь на обучении 0.001822266629028876\n",
      "Среднее значение функции потерь на валидации 0.9422180069200063\n",
      "\n",
      "Эпоха 43\n",
      "Эпоха: 354 итераций, 2.52 сек\n",
      "Среднее значение функции потерь на обучении 0.001788782176953322\n",
      "Среднее значение функции потерь на валидации 0.9431621785891258\n",
      "Модель не улучшилась за последние 10 эпох, прекращаем обучение\n"
     ]
    }
   ],
   "source": [
    "model = nn.Linear(UNIQUE_WORDS_N, UNIQUE_LABELS_N)\n",
    "\n",
    "def lr_scheduler(optim):\n",
    "    return torch.optim.lr_scheduler.ReduceLROnPlateau(optim,\n",
    "                                                      patience=5,\n",
    "                                                      factor=0.5,\n",
    "                                                      verbose=True)\n",
    "\n",
    "best_val_loss, best_model = train_eval_loop(model=model,\n",
    "                                            train_dataset=train_dataset,\n",
    "                                            val_dataset=test_dataset,\n",
    "                                            criterion=F.cross_entropy,\n",
    "                                            lr=1e-1,\n",
    "                                            epoch_n=200,\n",
    "                                            batch_size=32,\n",
    "                                            l2_reg_alpha=0,\n",
    "                                            lr_scheduler_ctor=lr_scheduler)"
   ]
  },
  {
   "cell_type": "markdown",
   "id": "7454ddad",
   "metadata": {},
   "source": [
    "### Оценка качества"
   ]
  },
  {
   "cell_type": "code",
   "execution_count": 13,
   "id": "010a01cb",
   "metadata": {},
   "outputs": [
    {
     "name": "stderr",
     "output_type": "stream",
     "text": [
      "100%|█████████████████████████████████████████████████████████████████████████████████████████████████████████████████████████████████████████████████████████████████████| 354/353.5625 [00:01<00:00, 213.57it/s]\n",
      "  9%|██████████████▉                                                                                                                                                        | 21/235.375 [00:00<00:01, 204.36it/s]"
     ]
    },
    {
     "name": "stdout",
     "output_type": "stream",
     "text": [
      "Среднее значение функции потерь на обучении - 0.0022322225850075483\n",
      "Доле верных ответов - 0.9994696835778681\n",
      "\n"
     ]
    },
    {
     "name": "stderr",
     "output_type": "stream",
     "text": [
      "236it [00:01, 211.28it/s]                                                                                                                                                                                         "
     ]
    },
    {
     "name": "stdout",
     "output_type": "stream",
     "text": [
      "Среднее значение функции потерь на валидации - 0.9289414286613464\n",
      "Доле верных ответов - 0.76805629314923\n"
     ]
    },
    {
     "name": "stderr",
     "output_type": "stream",
     "text": [
      "\n"
     ]
    }
   ],
   "source": [
    "train_pred = predict_with_model(best_model, train_dataset)\n",
    "train_loss = F.cross_entropy(torch.from_numpy(train_pred),\n",
    "                             torch.from_numpy(train_source['target']).long())\n",
    "print(f'Среднее значение функции потерь на обучении - {float(train_loss)}')\n",
    "print(f\"Доле верных ответов - {accuracy_score(train_source['target'], train_pred.argmax(-1))}\")\n",
    "print()\n",
    "test_pred = predict_with_model(best_model, test_dataset)\n",
    "test_loss = F.cross_entropy(torch.from_numpy(test_pred),\n",
    "                             torch.from_numpy(test_source['target']).long())\n",
    "print(f'Среднее значение функции потерь на валидации - {float(test_loss)}')\n",
    "print(f\"Доле верных ответов - {accuracy_score(test_source['target'], test_pred.argmax(-1))}\")"
   ]
  },
  {
   "cell_type": "markdown",
   "id": "6cf26fa2",
   "metadata": {},
   "source": [
    "# Альтернативаня реализация на scikit-learn"
   ]
  },
  {
   "cell_type": "code",
   "execution_count": 14,
   "id": "e1ca92ed",
   "metadata": {},
   "outputs": [
    {
     "data": {
      "text/plain": [
       "Pipeline(steps=[('vect',\n",
       "                 TfidfVectorizer(max_df=0.8, min_df=5,\n",
       "                                 tokenizer=<function tokenize_text_simple_regex at 0x000001F543B08AF0>)),\n",
       "                ('cls', LogisticRegression())])"
      ]
     },
     "execution_count": 14,
     "metadata": {},
     "output_type": "execute_result"
    }
   ],
   "source": [
    "from sklearn.feature_extraction.text import TfidfVectorizer\n",
    "from sklearn.pipeline import Pipeline\n",
    "from sklearn.linear_model import LogisticRegression\n",
    "\n",
    "sklearn_pipeline = Pipeline((('vect', TfidfVectorizer(tokenizer=tokenize_text_simple_regex,\n",
    "                                                      max_df=MAX_DF,\n",
    "                                                      min_df=MIN_COUNT)),\n",
    "                             ('cls', LogisticRegression())))\n",
    "sklearn_pipeline.fit(train_source['data'], train_source['target'])"
   ]
  },
  {
   "cell_type": "markdown",
   "id": "060ee322",
   "metadata": {},
   "source": [
    "### Оценка качества"
   ]
  },
  {
   "cell_type": "code",
   "execution_count": 15,
   "id": "179c7e74",
   "metadata": {},
   "outputs": [
    {
     "name": "stdout",
     "output_type": "stream",
     "text": [
      "Среднее значение функции потерь на обучении - 2.4954788918518926\n",
      "Доле верных ответов - 0.9716280714159449\n",
      "\n",
      "Среднее значение функции потерь на валидации - 2.653902258228598\n",
      "Доле верных ответов - 0.8190387679235263\n"
     ]
    }
   ],
   "source": [
    "sklearn_train_pred = sklearn_pipeline.predict_proba(train_source['data'])\n",
    "sklearn_train_loss = F.cross_entropy(torch.from_numpy(sklearn_train_pred),\n",
    "                                     torch.from_numpy(train_source['target']).long())\n",
    "print(f'Среднее значение функции потерь на обучении - {float(sklearn_train_loss)}')\n",
    "print(f\"Доле верных ответов - {accuracy_score(train_source['target'], sklearn_train_pred.argmax(-1))}\")\n",
    "print()\n",
    "sklearn_test_pred = sklearn_pipeline.predict_proba(test_source['data'])\n",
    "sklearn_test_loss = F.cross_entropy(torch.from_numpy(sklearn_test_pred),\n",
    "                                     torch.from_numpy(test_source['target']).long())\n",
    "print(f'Среднее значение функции потерь на валидации - {float(sklearn_test_loss)}')\n",
    "print(f\"Доле верных ответов - {accuracy_score(test_source['target'], sklearn_test_pred.argmax(-1))}\")"
   ]
  }
 ],
 "metadata": {
  "kernelspec": {
   "display_name": "Python 3",
   "language": "python",
   "name": "python3"
  },
  "language_info": {
   "codemirror_mode": {
    "name": "ipython",
    "version": 3
   },
   "file_extension": ".py",
   "mimetype": "text/x-python",
   "name": "python",
   "nbconvert_exporter": "python",
   "pygments_lexer": "ipython3",
   "version": "3.8.8"
  }
 },
 "nbformat": 4,
 "nbformat_minor": 5
}
