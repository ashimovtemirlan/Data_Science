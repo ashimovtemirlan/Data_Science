{
 "cells": [
  {
   "cell_type": "markdown",
   "metadata": {},
   "source": [
    "# Programming Assignment: \n",
    "## Готовим LDA по рецептам"
   ]
  },
  {
   "cell_type": "markdown",
   "metadata": {},
   "source": [
    "Как вы уже знаете, в тематическом моделировании делается предположение о том, что для определения тематики порядок слов в документе не важен; об этом гласит гипотеза «мешка слов». Сегодня мы будем работать с несколько нестандартной для тематического моделирования коллекцией, которую можно назвать «мешком ингредиентов», потому что на состоит из рецептов блюд разных кухонь. Тематические модели ищут слова, которые часто вместе встречаются в документах, и составляют из них темы. Мы попробуем применить эту идею к рецептам и найти кулинарные «темы». Эта коллекция хороша тем, что не требует предобработки. Кроме того, эта задача достаточно наглядно иллюстрирует принцип работы тематических моделей.\n",
    "\n",
    "Для выполнения заданий, помимо часто используемых в курсе библиотек, потребуются модули *json* и *gensim*. Первый входит в дистрибутив Anaconda, второй можно поставить командой \n",
    "\n",
    "*pip install gensim*\n",
    "\n",
    "Построение модели занимает некоторое время. На ноутбуке с процессором Intel Core i7 и тактовой частотой 2400 МГц на построение одной модели уходит менее 10 минут."
   ]
  },
  {
   "cell_type": "markdown",
   "metadata": {},
   "source": [
    "### Загрузка данных"
   ]
  },
  {
   "cell_type": "markdown",
   "metadata": {},
   "source": [
    "Коллекция дана в json-формате: для каждого рецепта известны его id, кухня (cuisine) и список ингредиентов, в него входящих. Загрузить данные можно с помощью модуля json (он входит в дистрибутив Anaconda):"
   ]
  },
  {
   "cell_type": "code",
   "execution_count": 1,
   "metadata": {},
   "outputs": [],
   "source": [
    "import json"
   ]
  },
  {
   "cell_type": "code",
   "execution_count": 2,
   "metadata": {},
   "outputs": [],
   "source": [
    "with open(\"recipes.json\") as f:\n",
    "    recipes = json.load(f)"
   ]
  },
  {
   "cell_type": "code",
   "execution_count": 3,
   "metadata": {},
   "outputs": [
    {
     "name": "stdout",
     "output_type": "stream",
     "text": [
      "{'id': 10259, 'cuisine': 'greek', 'ingredients': ['romaine lettuce', 'black olives', 'grape tomatoes', 'garlic', 'pepper', 'purple onion', 'seasoning', 'garbanzo beans', 'feta cheese crumbles']}\n"
     ]
    }
   ],
   "source": [
    "print(recipes[0])"
   ]
  },
  {
   "cell_type": "markdown",
   "metadata": {},
   "source": [
    "### Составление корпуса"
   ]
  },
  {
   "cell_type": "code",
   "execution_count": 4,
   "metadata": {},
   "outputs": [],
   "source": [
    "from gensim import corpora, models\n",
    "import numpy as np"
   ]
  },
  {
   "cell_type": "markdown",
   "metadata": {},
   "source": [
    "Наша коллекция небольшая, и целиком помещается в оперативную память. Gensim может работать с такими данными и не требует их сохранения на диск в специальном формате. Для этого коллекция должна быть представлена в виде списка списков, каждый внутренний список соответствует отдельному документу и состоит из его слов. Пример коллекции из двух документов: \n",
    "\n",
    "[[\"hello\", \"world\"], [\"programming\", \"in\", \"python\"]]\n",
    "\n",
    "Преобразуем наши данные в такой формат, а затем создадим объекты corpus и dictionary, с которыми будет работать модель."
   ]
  },
  {
   "cell_type": "code",
   "execution_count": 5,
   "metadata": {},
   "outputs": [],
   "source": [
    "texts = [recipe[\"ingredients\"] for recipe in recipes]\n",
    "dictionary = corpora.Dictionary(texts)   # составляем словарь\n",
    "corpus = [dictionary.doc2bow(text) for text in texts]  # составляем корпус документов"
   ]
  },
  {
   "cell_type": "code",
   "execution_count": 6,
   "metadata": {},
   "outputs": [
    {
     "name": "stdout",
     "output_type": "stream",
     "text": [
      "['romaine lettuce', 'black olives', 'grape tomatoes', 'garlic', 'pepper', 'purple onion', 'seasoning', 'garbanzo beans', 'feta cheese crumbles']\n",
      "[(0, 1), (1, 1), (2, 1), (3, 1), (4, 1), (5, 1), (6, 1), (7, 1), (8, 1)]\n"
     ]
    }
   ],
   "source": [
    "print(texts[0])\n",
    "print(corpus[0])"
   ]
  },
  {
   "cell_type": "markdown",
   "metadata": {},
   "source": [
    "У объекта dictionary есть полезная переменная dictionary.token2id, позволяющая находить соответствие между ингредиентами и их индексами."
   ]
  },
  {
   "cell_type": "markdown",
   "metadata": {},
   "source": [
    "### Обучение модели\n",
    "Вам может понадобиться [документация](https://radimrehurek.com/gensim/models/ldamodel.html) LDA в gensim."
   ]
  },
  {
   "cell_type": "markdown",
   "metadata": {},
   "source": [
    "__Задание 1.__ Обучите модель LDA с 40 темами, установив количество проходов по коллекции 5 и оставив остальные параметры по умолчанию. \n",
    "\n",
    "\n",
    "Затем вызовите метод модели *show_topics*, указав количество тем 40 и количество токенов 10, и сохраните результат (топы ингредиентов в темах) в отдельную переменную. Если при вызове метода *show_topics* указать параметр *formatted=True*, то топы ингредиентов будет удобно выводить на печать, если *formatted=False*, будет удобно работать со списком программно. Выведите топы на печать, рассмотрите темы, а затем ответьте на вопрос:\n",
    "\n",
    "Сколько раз ингредиенты \"salt\", \"sugar\", \"water\", \"mushrooms\", \"chicken\", \"eggs\" встретились среди топов-10 всех 40 тем? При ответе __не нужно__ учитывать составные ингредиенты, например, \"hot water\".\n",
    "\n",
    "Передайте 6 чисел в функцию save_answers1 и загрузите сгенерированный файл в форму.\n",
    "\n",
    "У gensim нет возможности фиксировать случайное приближение через параметры метода, но библиотека использует numpy для инициализации матриц. Поэтому, по утверждению автора библиотеки, фиксировать случайное приближение нужно командой, которая написана в следующей ячейке. __Перед строкой кода с построением модели обязательно вставляйте указанную строку фиксации random.seed.__"
   ]
  },
  {
   "cell_type": "code",
   "execution_count": 7,
   "metadata": {
    "scrolled": false
   },
   "outputs": [
    {
     "name": "stdout",
     "output_type": "stream",
     "text": [
      "Wall time: 46.6 s\n"
     ]
    },
    {
     "data": {
      "text/plain": [
       "[(0,\n",
       "  [('chopped onion', 0.10561533),\n",
       "   ('garlic cloves', 0.08274377),\n",
       "   ('salt', 0.06418327),\n",
       "   ('fat free less sodium chicken broth', 0.05454066),\n",
       "   ('sliced green onions', 0.047625586),\n",
       "   ('cooking spray', 0.047037255),\n",
       "   ('ground red pepper', 0.045386635),\n",
       "   ('water', 0.044596855),\n",
       "   ('spinach', 0.037775513),\n",
       "   ('black pepper', 0.030488627)]),\n",
       " (1,\n",
       "  [('corn kernels', 0.101175554),\n",
       "   ('diced onions', 0.08605669),\n",
       "   ('tortillas', 0.07205037),\n",
       "   ('vegetable stock', 0.0662273),\n",
       "   ('chopped fresh chives', 0.049636446),\n",
       "   ('sliced black olives', 0.049287956),\n",
       "   ('cream cheese, soften', 0.04783246),\n",
       "   ('lard', 0.043398716),\n",
       "   ('jack cheese', 0.03442474),\n",
       "   ('canned black beans', 0.02426427)]),\n",
       " (2,\n",
       "  [('olive oil', 0.086276315),\n",
       "   ('crushed red pepper', 0.05979925),\n",
       "   ('fresh parsley', 0.055910952),\n",
       "   ('garlic cloves', 0.041635297),\n",
       "   ('grated parmesan cheese', 0.03937069),\n",
       "   ('cherry tomatoes', 0.03531762),\n",
       "   ('butter', 0.03499006),\n",
       "   ('salt', 0.034754846),\n",
       "   ('low salt chicken broth', 0.033915184),\n",
       "   ('fresh rosemary', 0.032028135)]),\n",
       " (3,\n",
       "  [('bacon', 0.074085824),\n",
       "   ('salt', 0.070113905),\n",
       "   ('red pepper flakes', 0.061052226),\n",
       "   ('onions', 0.05432769),\n",
       "   ('garlic', 0.05108832),\n",
       "   ('ground black pepper', 0.048780683),\n",
       "   ('mushrooms', 0.043756183),\n",
       "   ('chicken thighs', 0.042794514),\n",
       "   ('pasta', 0.041849058),\n",
       "   ('olive oil', 0.03398867)]),\n",
       " (4,\n",
       "  [('cooking spray', 0.09080146),\n",
       "   ('salt', 0.06698275),\n",
       "   ('powdered sugar', 0.061168894),\n",
       "   ('large egg whites', 0.054737877),\n",
       "   ('all-purpose flour', 0.05442546),\n",
       "   ('sugar', 0.050410576),\n",
       "   ('large eggs', 0.04877472),\n",
       "   ('cream cheese', 0.044742417),\n",
       "   ('yellow corn meal', 0.04393414),\n",
       "   ('butter', 0.04207619)]),\n",
       " (5,\n",
       "  [('large garlic cloves', 0.092924975),\n",
       "   ('shallots', 0.09192467),\n",
       "   ('dry white wine', 0.07514025),\n",
       "   ('olive oil', 0.05580358),\n",
       "   ('finely chopped onion', 0.04493351),\n",
       "   ('unsalted butter', 0.033453424),\n",
       "   ('salt', 0.032619037),\n",
       "   ('white wine vinegar', 0.03195876),\n",
       "   ('arborio rice', 0.030564802),\n",
       "   ('saffron threads', 0.026640294)]),\n",
       " (6,\n",
       "  [('fresh thyme', 0.07843552),\n",
       "   ('dry red wine', 0.0775052),\n",
       "   ('pork tenderloin', 0.05273936),\n",
       "   ('reduced sodium soy sauce', 0.047022715),\n",
       "   ('cilantro sprigs', 0.04648854),\n",
       "   ('beef broth', 0.041313287),\n",
       "   ('peppercorns', 0.03634929),\n",
       "   ('cremini mushrooms', 0.03222822),\n",
       "   ('rosemary', 0.023041002),\n",
       "   ('daikon', 0.022705344)]),\n",
       " (7,\n",
       "  [('soy sauce', 0.09198547),\n",
       "   ('sesame oil', 0.051455602),\n",
       "   ('scallions', 0.043450713),\n",
       "   ('green onions', 0.042562205),\n",
       "   ('rice vinegar', 0.041019145),\n",
       "   ('sugar', 0.039408986),\n",
       "   ('corn starch', 0.036608297),\n",
       "   ('garlic', 0.03533177),\n",
       "   ('vegetable oil', 0.033579644),\n",
       "   ('fresh ginger', 0.027068306)]),\n",
       " (8,\n",
       "  [('garlic powder', 0.17518237),\n",
       "   ('cayenne pepper', 0.12213325),\n",
       "   ('onion powder', 0.065723196),\n",
       "   ('ground black pepper', 0.046568163),\n",
       "   ('smoked paprika', 0.043610234),\n",
       "   ('black pepper', 0.041042306),\n",
       "   ('pinenuts', 0.04012088),\n",
       "   ('salt', 0.03799243),\n",
       "   ('fresh spinach', 0.025797028),\n",
       "   ('dried oregano', 0.02573549)]),\n",
       " (9,\n",
       "  [('extra-virgin olive oil', 0.11435987),\n",
       "   ('garlic cloves', 0.06719493),\n",
       "   ('fresh lemon juice', 0.061258927),\n",
       "   ('salt', 0.05569814),\n",
       "   ('olive oil', 0.05277861),\n",
       "   ('ground black pepper', 0.051695663),\n",
       "   ('plum tomatoes', 0.04624546),\n",
       "   ('purple onion', 0.042981606),\n",
       "   ('balsamic vinegar', 0.034581676),\n",
       "   ('fresh basil', 0.033834424)]),\n",
       " (10,\n",
       "  [('broccoli florets', 0.06493208),\n",
       "   ('button mushrooms', 0.049388148),\n",
       "   ('crГЁme fraГ®che', 0.048273485),\n",
       "   ('yellow squash', 0.045970645),\n",
       "   ('radishes', 0.04447928),\n",
       "   ('greek style plain yogurt', 0.038448714),\n",
       "   ('pork sausages', 0.038265746),\n",
       "   ('watercress', 0.03490368),\n",
       "   ('quickcooking grits', 0.032625236),\n",
       "   ('ripe olives', 0.030831989)]),\n",
       " (11,\n",
       "  [('lime', 0.13391562),\n",
       "   ('lime juice', 0.11255709),\n",
       "   ('fresh cilantro', 0.05619866),\n",
       "   ('chopped cilantro', 0.036468163),\n",
       "   ('purple onion', 0.035628513),\n",
       "   ('mango', 0.030721407),\n",
       "   ('garlic', 0.030703722),\n",
       "   ('jalapeno chilies', 0.027450224),\n",
       "   ('lime wedges', 0.027326709),\n",
       "   ('thai chile', 0.021668587)]),\n",
       " (12,\n",
       "  [('cheese', 0.09610217),\n",
       "   ('ricotta cheese', 0.09267345),\n",
       "   ('orange juice', 0.087451175),\n",
       "   ('sliced mushrooms', 0.059080992),\n",
       "   ('baby spinach', 0.058113113),\n",
       "   ('vegetable broth', 0.05719115),\n",
       "   ('vegetable oil cooking spray', 0.051774222),\n",
       "   ('frozen chopped spinach', 0.037143152),\n",
       "   ('part-skim mozzarella cheese', 0.03460264),\n",
       "   ('italian sausage', 0.03343722)]),\n",
       " (13,\n",
       "  [('diced tomatoes', 0.0935058),\n",
       "   ('onions', 0.06349724),\n",
       "   ('dried oregano', 0.05985759),\n",
       "   ('tomato sauce', 0.053327773),\n",
       "   ('garlic', 0.048049364),\n",
       "   ('tomato paste', 0.046237625),\n",
       "   ('salt', 0.04573465),\n",
       "   ('olive oil', 0.03805257),\n",
       "   ('crushed tomatoes', 0.033268783),\n",
       "   ('ground beef', 0.02968977)]),\n",
       " (14,\n",
       "  [('tomatoes', 0.11854917),\n",
       "   ('salt', 0.088264465),\n",
       "   ('red wine vinegar', 0.084448546),\n",
       "   ('olive oil', 0.07200097),\n",
       "   ('cucumber', 0.06769019),\n",
       "   ('pepper', 0.05318671),\n",
       "   ('lemon juice', 0.046239994),\n",
       "   ('fresh oregano', 0.043746654),\n",
       "   ('purple onion', 0.034525685),\n",
       "   ('garlic', 0.034118854)]),\n",
       " (15,\n",
       "  [('lemon', 0.2024259),\n",
       "   ('orange', 0.055106618),\n",
       "   ('boiling water', 0.053055555),\n",
       "   ('fine sea salt', 0.049330253),\n",
       "   ('sugar', 0.04535971),\n",
       "   ('cold water', 0.04381755),\n",
       "   ('fennel seeds', 0.033886),\n",
       "   ('almonds', 0.03169996),\n",
       "   ('water', 0.031186495),\n",
       "   ('mint', 0.027998911)]),\n",
       " (16,\n",
       "  [('chopped cilantro fresh', 0.102223195),\n",
       "   ('fresh lime juice', 0.075825825),\n",
       "   ('jalapeno chilies', 0.068936944),\n",
       "   ('white onion', 0.051066916),\n",
       "   ('salt', 0.04581348),\n",
       "   ('avocado', 0.04244016),\n",
       "   ('ground cumin', 0.037858646),\n",
       "   ('garlic cloves', 0.037267607),\n",
       "   ('vegetable oil', 0.027863482),\n",
       "   ('cilantro leaves', 0.02730088)]),\n",
       " (17,\n",
       "  [('ground ginger', 0.09984777),\n",
       "   ('ground cinnamon', 0.09855546),\n",
       "   ('raisins', 0.081396766),\n",
       "   ('ground cloves', 0.07681528),\n",
       "   ('white wine', 0.07049799),\n",
       "   ('ground allspice', 0.060950123),\n",
       "   ('fresh mushrooms', 0.054895874),\n",
       "   ('lean ground beef', 0.04994931),\n",
       "   ('dried rosemary', 0.03223616),\n",
       "   ('iceberg lettuce', 0.029912071)]),\n",
       " (18,\n",
       "  [('parmesan cheese', 0.1169215),\n",
       "   ('warm water', 0.07183872),\n",
       "   ('salt', 0.063621566),\n",
       "   ('olive oil', 0.05348347),\n",
       "   ('dried basil', 0.05319303),\n",
       "   ('grits', 0.039031122),\n",
       "   ('kale', 0.0324712),\n",
       "   ('plain flour', 0.03102302),\n",
       "   ('water', 0.027940566),\n",
       "   ('dry yeast', 0.026934681)]),\n",
       " (19,\n",
       "  [('unsalted butter', 0.121704444),\n",
       "   ('large eggs', 0.09787136),\n",
       "   ('all-purpose flour', 0.09642932),\n",
       "   ('salt', 0.07581948),\n",
       "   ('sugar', 0.06130109),\n",
       "   ('whole milk', 0.039198108),\n",
       "   ('granulated sugar', 0.0379093),\n",
       "   ('baking powder', 0.033537842),\n",
       "   ('large egg yolks', 0.025864355),\n",
       "   ('buttermilk', 0.025751282)]),\n",
       " (20,\n",
       "  [('flat leaf parsley', 0.11782449),\n",
       "   ('freshly ground pepper', 0.10103742),\n",
       "   ('extra-virgin olive oil', 0.05498251),\n",
       "   ('garlic cloves', 0.053820807),\n",
       "   ('large shrimp', 0.044203594),\n",
       "   ('olive oil', 0.0439495),\n",
       "   ('salt', 0.042301375),\n",
       "   ('dry bread crumbs', 0.032748275),\n",
       "   ('ground black pepper', 0.026761055),\n",
       "   ('kosher salt', 0.02400831)]),\n",
       " (21,\n",
       "  [('chicken broth', 0.1456815),\n",
       "   ('green bell pepper', 0.066637),\n",
       "   ('boneless skinless chicken breast halves', 0.05924811),\n",
       "   ('boneless skinless chicken breasts', 0.054722786),\n",
       "   ('onions', 0.05453379),\n",
       "   ('chicken breasts', 0.048741274),\n",
       "   ('red bell pepper', 0.04041295),\n",
       "   ('butter', 0.040152457),\n",
       "   ('pepper', 0.039573416),\n",
       "   ('salt', 0.035720233)]),\n",
       " (22,\n",
       "  [('grated parmesan cheese', 0.11471363),\n",
       "   ('olive oil', 0.06306763),\n",
       "   ('zucchini', 0.056395035),\n",
       "   ('salt', 0.045240507),\n",
       "   ('garlic', 0.0416232),\n",
       "   ('mozzarella cheese', 0.040963862),\n",
       "   ('shredded mozzarella cheese', 0.037840035),\n",
       "   ('eggplant', 0.036749084),\n",
       "   ('pepper', 0.034718435),\n",
       "   ('eggs', 0.03253793)]),\n",
       " (23,\n",
       "  [('brown sugar', 0.078122534),\n",
       "   ('water', 0.050775114),\n",
       "   ('salt', 0.049778577),\n",
       "   ('soy sauce', 0.048039135),\n",
       "   ('white pepper', 0.046246715),\n",
       "   ('oil', 0.044005673),\n",
       "   ('sugar', 0.040540416),\n",
       "   ('sauce', 0.038460515),\n",
       "   ('ketchup', 0.035096914),\n",
       "   ('garlic', 0.03368757)]),\n",
       " (24,\n",
       "  [('ground cumin', 0.07408255),\n",
       "   ('ground coriander', 0.04695047),\n",
       "   ('salt', 0.046249207),\n",
       "   ('curry powder', 0.038995296),\n",
       "   ('onions', 0.03329827),\n",
       "   ('garlic', 0.028627397),\n",
       "   ('vegetable oil', 0.027807055),\n",
       "   ('ground turmeric', 0.026790949),\n",
       "   ('garlic cloves', 0.026620017),\n",
       "   ('fresh ginger', 0.024256976)]),\n",
       " (25,\n",
       "  [('hot water', 0.08928043),\n",
       "   ('chopped garlic', 0.08296953),\n",
       "   ('peanut oil', 0.06529827),\n",
       "   ('rice wine', 0.058569178),\n",
       "   ('hot red pepper flakes', 0.045750745),\n",
       "   ('corn oil', 0.0364422),\n",
       "   ('fontina cheese', 0.03251843),\n",
       "   ('marsala wine', 0.030443914),\n",
       "   ('seasoning', 0.030175272),\n",
       "   ('garlic chili sauce', 0.029413305)]),\n",
       " (26,\n",
       "  [('mirin', 0.08183597),\n",
       "   ('chickpeas', 0.07186558),\n",
       "   ('red pepper', 0.051405825),\n",
       "   ('mint leaves', 0.049633067),\n",
       "   ('juice', 0.04812365),\n",
       "   ('chopped fresh mint', 0.04794429),\n",
       "   ('sugar', 0.038771275),\n",
       "   ('fresh coriander', 0.036941905),\n",
       "   ('sake', 0.03484034),\n",
       "   ('grated lemon zest', 0.030154476)]),\n",
       " (27,\n",
       "  [('heavy cream', 0.18502118),\n",
       "   ('cheddar cheese', 0.10199942),\n",
       "   ('frozen peas', 0.0691057),\n",
       "   ('grated nutmeg', 0.06610515),\n",
       "   ('bananas', 0.041127905),\n",
       "   ('bread', 0.036701307),\n",
       "   ('ice', 0.026003702),\n",
       "   ('adobo sauce', 0.023925046),\n",
       "   ('old bay seasoning', 0.023110384),\n",
       "   ('butter', 0.022332143)]),\n",
       " (28,\n",
       "  [('oil', 0.11476289),\n",
       "   ('salt', 0.086948216),\n",
       "   ('cilantro leaves', 0.05290124),\n",
       "   ('green chilies', 0.051112488),\n",
       "   ('cumin seed', 0.04849652),\n",
       "   ('onions', 0.046339605),\n",
       "   ('ground turmeric', 0.042398755),\n",
       "   ('water', 0.040976748),\n",
       "   ('chili powder', 0.03266472),\n",
       "   ('tomatoes', 0.029233566)]),\n",
       " (29,\n",
       "  [('sour cream', 0.07746564),\n",
       "   ('salsa', 0.047246877),\n",
       "   ('flour tortillas', 0.04664168),\n",
       "   ('chili powder', 0.04537465),\n",
       "   ('corn tortillas', 0.041726977),\n",
       "   ('shredded cheddar cheese', 0.041218035),\n",
       "   ('black beans', 0.040016007),\n",
       "   ('cilantro', 0.03577449),\n",
       "   ('salt', 0.029511988),\n",
       "   ('ground cumin', 0.028089121)]),\n",
       " (30,\n",
       "  [('sugar', 0.09338523),\n",
       "   ('whipping cream', 0.080758624),\n",
       "   ('egg yolks', 0.076591775),\n",
       "   ('vanilla extract', 0.05066066),\n",
       "   ('butter', 0.050367426),\n",
       "   ('egg whites', 0.04924533),\n",
       "   ('half & half', 0.043046903),\n",
       "   ('sweetened condensed milk', 0.037039895),\n",
       "   ('water', 0.034713283),\n",
       "   ('strawberries', 0.031191086)]),\n",
       " (31,\n",
       "  [('shrimp', 0.09955508),\n",
       "   ('medium shrimp', 0.06317084),\n",
       "   ('long-grain rice', 0.045157734),\n",
       "   ('vegetable oil', 0.04464792),\n",
       "   ('green onions', 0.035310116),\n",
       "   ('long grain white rice', 0.035293628),\n",
       "   ('rice noodles', 0.034994397),\n",
       "   ('hot pepper sauce', 0.034788046),\n",
       "   ('scallions', 0.028540984),\n",
       "   ('asian fish sauce', 0.02611575)]),\n",
       " (32,\n",
       "  [('eggs', 0.11195198),\n",
       "   ('milk', 0.10436732),\n",
       "   ('salt', 0.09610516),\n",
       "   ('butter', 0.072418734),\n",
       "   ('all-purpose flour', 0.067520216),\n",
       "   ('flour', 0.04196895),\n",
       "   ('baking powder', 0.04123386),\n",
       "   ('sugar', 0.04010414),\n",
       "   ('white sugar', 0.03997308),\n",
       "   ('water', 0.023109118)]),\n",
       " (33,\n",
       "  [('rice', 0.06192684),\n",
       "   ('coriander', 0.054372523),\n",
       "   ('onions', 0.048907436),\n",
       "   ('salt', 0.04745838),\n",
       "   ('garam masala', 0.041888274),\n",
       "   ('ginger', 0.040264677),\n",
       "   ('tumeric', 0.040204197),\n",
       "   ('cabbage', 0.037614215),\n",
       "   ('garlic', 0.03546406),\n",
       "   ('ghee', 0.033541642)]),\n",
       " (34,\n",
       "  [('cinnamon sticks', 0.09141974),\n",
       "   ('clove', 0.08512738),\n",
       "   ('black peppercorns', 0.07127917),\n",
       "   ('chopped tomatoes', 0.041807555),\n",
       "   ('cream', 0.041621163),\n",
       "   ('garlic paste', 0.038783293),\n",
       "   ('yoghurt', 0.034930788),\n",
       "   ('coriander seeds', 0.03429928),\n",
       "   ('fresh dill', 0.03277492),\n",
       "   ('onions', 0.028375257)]),\n",
       " (35,\n",
       "  [('onions', 0.06655992),\n",
       "   ('bay leaves', 0.050900914),\n",
       "   ('celery', 0.050402448),\n",
       "   ('salt', 0.048561454),\n",
       "   ('dried thyme', 0.04577948),\n",
       "   ('bay leaf', 0.04555237),\n",
       "   ('carrots', 0.044844557),\n",
       "   ('water', 0.041039553),\n",
       "   ('garlic', 0.033000644),\n",
       "   ('ground black pepper', 0.030614583)]),\n",
       " (36,\n",
       "  [('salt', 0.11635665),\n",
       "   ('pepper', 0.09512755),\n",
       "   ('paprika', 0.07219752),\n",
       "   ('onions', 0.06988049),\n",
       "   ('potatoes', 0.055728853),\n",
       "   ('butter', 0.044271205),\n",
       "   ('garlic', 0.038360998),\n",
       "   ('olive oil', 0.03695472),\n",
       "   ('worcestershire sauce', 0.02545851),\n",
       "   ('carrots', 0.024807945)]),\n",
       " (37,\n",
       "  [('sea salt', 0.10959602),\n",
       "   ('coarse salt', 0.06579445),\n",
       "   ('crushed red pepper flakes', 0.05618291),\n",
       "   ('extra-virgin olive oil', 0.050229926),\n",
       "   ('ground black pepper', 0.044705067),\n",
       "   ('celery ribs', 0.044585716),\n",
       "   ('ground pepper', 0.04133416),\n",
       "   ('kosher salt', 0.03891947),\n",
       "   ('garlic cloves', 0.034133993),\n",
       "   ('parmigiano reggiano cheese', 0.033214536)]),\n",
       " (38,\n",
       "  [('fish sauce', 0.11472873),\n",
       "   ('coconut milk', 0.05482291),\n",
       "   ('garlic', 0.04171321),\n",
       "   ('shallots', 0.03725148),\n",
       "   ('red chili peppers', 0.036177333),\n",
       "   ('lemongrass', 0.034258787),\n",
       "   ('sugar', 0.02780781),\n",
       "   ('vegetable oil', 0.025910713),\n",
       "   ('boneless chicken skinless thigh', 0.024801217),\n",
       "   ('cooking oil', 0.024154073)]),\n",
       " (39,\n",
       "  [('mayonaise', 0.15256497),\n",
       "   ('dijon mustard', 0.09488807),\n",
       "   ('cider vinegar', 0.06904054),\n",
       "   ('cracked black pepper', 0.068969436),\n",
       "   ('roma tomatoes', 0.04661579),\n",
       "   ('white rice', 0.04341528),\n",
       "   ('lemon wedge', 0.0430798),\n",
       "   ('romaine lettuce', 0.036012035),\n",
       "   ('chicken wings', 0.024263976),\n",
       "   ('green onions', 0.023678435)])]"
      ]
     },
     "execution_count": 7,
     "metadata": {},
     "output_type": "execute_result"
    }
   ],
   "source": [
    "%%time\n",
    "\n",
    "np.random.seed(76543)\n",
    "# здесь код для построения модели:\n",
    "## Training model\n",
    "lda_model = models.ldamodel.LdaModel(corpus, id2word=dictionary, num_topics=40, passes=5)\n",
    "\n",
    "## Showing topics\n",
    "lda_model.show_topics(num_topics=-1, num_words=10, formatted=False)"
   ]
  },
  {
   "cell_type": "code",
   "execution_count": 8,
   "metadata": {},
   "outputs": [],
   "source": [
    "def save_answers1(c_salt, c_sugar, c_water, c_mushrooms, c_chicken, c_eggs):\n",
    "    with open(\"cooking_LDA_pa_task1.txt\", \"w\") as fout:\n",
    "        fout.write(\" \".join([str(el) for el in [c_salt, c_sugar, c_water, c_mushrooms, c_chicken, c_eggs]]))"
   ]
  },
  {
   "cell_type": "code",
   "execution_count": 9,
   "metadata": {
    "scrolled": true
   },
   "outputs": [],
   "source": [
    "from operator import itemgetter\n",
    "from collections import Counter\n",
    "\n",
    "## Preprocessing\n",
    "list_topics = lda_model.show_topics(num_topics=-1, num_words=10, formatted=False)\n",
    "list_topics = [itemgetter(1)(topic) for topic in list_topics]\n",
    "list_tokens = []\n",
    "for topic in list_topics:\n",
    "    list_tokens += [itemgetter(0)(token) for token in topic]\n",
    "    \n",
    "## Ingredient counts\n",
    "results = Counter(list_tokens)\n",
    "\n",
    "## Saving results\n",
    "save_answers1(results['salt'], results['sugar'], results['water'],\n",
    "              results['mushrooms'], results['chicken'], results['eggs'])"
   ]
  },
  {
   "cell_type": "markdown",
   "metadata": {},
   "source": [
    "### Фильтрация словаря\n",
    "В топах тем гораздо чаще встречаются первые три рассмотренных ингредиента, чем последние три. При этом наличие в рецепте курицы, яиц и грибов яснее дает понять, что мы будем готовить, чем наличие соли, сахара и воды. Таким образом, даже в рецептах есть слова, часто встречающиеся в текстах и не несущие смысловой нагрузки, и поэтому их не желательно видеть в темах. Наиболее простой прием борьбы с такими фоновыми элементами — фильтрация словаря по частоте. Обычно словарь фильтруют с двух сторон: убирают очень редкие слова (в целях экономии памяти) и очень частые слова (в целях повышения интерпретируемости тем). Мы уберем только частые слова."
   ]
  },
  {
   "cell_type": "code",
   "execution_count": 10,
   "metadata": {},
   "outputs": [],
   "source": [
    "import copy\n",
    "dictionary2 = copy.deepcopy(dictionary)"
   ]
  },
  {
   "cell_type": "markdown",
   "metadata": {},
   "source": [
    "__Задание 2.__ У объекта dictionary2 есть переменная *dfs* — это словарь, ключами которого являются id токена, а элементами — число раз, сколько слово встретилось во всей коллекции. Сохраните в отдельный список ингредиенты, которые встретились в коллекции больше 4000 раз. Вызовите метод словаря *filter_tokens*, подав в качестве первого аргумента полученный список популярных ингредиентов. Вычислите две величины: dict_size_before и dict_size_after — размер словаря до и после фильтрации.\n",
    "\n",
    "Затем, используя новый словарь, создайте новый корпус документов, corpus2, по аналогии с тем, как это сделано в начале ноутбука. Вычислите две величины: corpus_size_before и corpus_size_after — суммарное количество ингредиентов в корпусе (для каждого документа вычислите число различных ингредиентов в нем и просуммируйте по всем документам) до и после фильтрации.\n",
    "\n",
    "Передайте величины dict_size_before, dict_size_after, corpus_size_before, corpus_size_after в функцию save_answers2 и загрузите сгенерированный файл в форму."
   ]
  },
  {
   "cell_type": "code",
   "execution_count": 11,
   "metadata": {},
   "outputs": [],
   "source": [
    "def save_answers2(dict_size_before, dict_size_after, corpus_size_before, corpus_size_after):\n",
    "    with open(\"cooking_LDA_pa_task2.txt\", \"w\") as fout:\n",
    "        fout.write(\" \".join([str(el) for el in [dict_size_before, dict_size_after, corpus_size_before, corpus_size_after]]))"
   ]
  },
  {
   "cell_type": "code",
   "execution_count": 12,
   "metadata": {},
   "outputs": [],
   "source": [
    "## Removing most frequent tokens from \"dictionary\"\n",
    "bad_ids = [key for key, value in dictionary2.dfs.items() if dictionary2.dfs[key] >= 4000]\n",
    "dictionary2.filter_tokens(bad_ids=bad_ids)\n",
    "\n",
    "## Creating new corpus based on new \"dictionary\"\n",
    "corpus2 = [dictionary2.doc2bow(text) for text in texts]\n",
    "\n",
    "## Corpuses' sizes\n",
    "### Before\n",
    "corpus_size_before = 0\n",
    "for doc in corpus:\n",
    "    corpus_size_before += len(set(doc))\n",
    "### After\n",
    "corpus_size_after = 0\n",
    "for doc in corpus2:\n",
    "    corpus_size_after += len(set(doc))\n",
    "\n",
    "## Saving results\n",
    "save_answers2(len(dictionary), len(dictionary2), corpus_size_before, corpus_size_after)"
   ]
  },
  {
   "cell_type": "markdown",
   "metadata": {},
   "source": [
    "### Сравнение когерентностей\n",
    "__Задание 3.__ Постройте еще одну модель по корпусу corpus2 и словарю dictionary2, остальные параметры оставьте такими же, как при первом построении модели. Сохраните новую модель в другую переменную (не перезаписывайте предыдущую модель). Не забудьте про фиксирование seed!\n",
    "\n",
    "Затем воспользуйтесь методом *top_topics* модели, чтобы вычислить ее когерентность. Передайте в качестве аргумента соответствующий модели корпус. Метод вернет список кортежей (топ токенов, когерентность), отсортированных по убыванию последней. Вычислите среднюю по всем темам когерентность для каждой из двух моделей и передайте в функцию save_answers3. "
   ]
  },
  {
   "cell_type": "code",
   "execution_count": 13,
   "metadata": {},
   "outputs": [
    {
     "name": "stdout",
     "output_type": "stream",
     "text": [
      "Wall time: 35.7 s\n"
     ]
    }
   ],
   "source": [
    "%%time\n",
    "\n",
    "## Training model\n",
    "np.random.seed(76543)\n",
    "lda_model2 = models.ldamodel.LdaModel(corpus2, id2word=dictionary2, num_topics=40, passes=5)"
   ]
  },
  {
   "cell_type": "code",
   "execution_count": 14,
   "metadata": {},
   "outputs": [],
   "source": [
    "def save_answers3(coherence, coherence2):\n",
    "    with open(\"cooking_LDA_pa_task3.txt\", \"w\") as fout:\n",
    "        fout.write(\" \".join([\"%3f\"%el for el in [coherence, coherence2]]))"
   ]
  },
  {
   "cell_type": "code",
   "execution_count": 15,
   "metadata": {},
   "outputs": [],
   "source": [
    "## Calculating coherence scores\n",
    "### First model\n",
    "lda_model_coherences = [itemgetter(1)(score) for score in lda_model.top_topics(corpus=corpus)]\n",
    "lda_model_coherence_score = sum(lda_model_coherences) / len(lda_model_coherences)\n",
    "### Second model (based on new dictionary and new corpus)\n",
    "lda_model2_coherences = [itemgetter(1)(score) for score in lda_model2.top_topics(corpus=corpus2)]\n",
    "lda_model2_coherence_score = sum(lda_model2_coherences) / len(lda_model2_coherences)\n",
    "\n",
    "## Save results\n",
    "save_answers3(lda_model_coherence_score, lda_model2_coherence_score)"
   ]
  },
  {
   "cell_type": "markdown",
   "metadata": {},
   "source": [
    "Считается, что когерентность хорошо соотносится с человеческими оценками интерпретируемости тем. Поэтому на больших текстовых коллекциях когерентность обычно повышается, если убрать фоновую лексику. Однако в нашем случае этого не произошло. "
   ]
  },
  {
   "cell_type": "markdown",
   "metadata": {},
   "source": [
    "### Изучение влияния гиперпараметра alpha"
   ]
  },
  {
   "cell_type": "markdown",
   "metadata": {},
   "source": [
    "В этом разделе мы будем работать со второй моделью, то есть той, которая построена по сокращенному корпусу. \n",
    "\n",
    "Пока что мы посмотрели только на матрицу темы-слова, теперь давайте посмотрим на матрицу темы-документы. Выведите темы для нулевого (или любого другого) документа из корпуса, воспользовавшись методом *get_document_topics* второй модели:"
   ]
  },
  {
   "cell_type": "code",
   "execution_count": 16,
   "metadata": {},
   "outputs": [
    {
     "data": {
      "text/plain": [
       "[(25, 0.12812185), (31, 0.6175929), (33, 0.13865705)]"
      ]
     },
     "execution_count": 16,
     "metadata": {},
     "output_type": "execute_result"
    }
   ],
   "source": [
    "lda_model2.get_document_topics(corpus2[0])"
   ]
  },
  {
   "cell_type": "markdown",
   "metadata": {},
   "source": [
    "Также выведите содержимое переменной *.alpha* второй модели:"
   ]
  },
  {
   "cell_type": "code",
   "execution_count": 17,
   "metadata": {},
   "outputs": [
    {
     "data": {
      "text/plain": [
       "array([0.025, 0.025, 0.025, 0.025, 0.025, 0.025, 0.025, 0.025, 0.025,\n",
       "       0.025, 0.025, 0.025, 0.025, 0.025, 0.025, 0.025, 0.025, 0.025,\n",
       "       0.025, 0.025, 0.025, 0.025, 0.025, 0.025, 0.025, 0.025, 0.025,\n",
       "       0.025, 0.025, 0.025, 0.025, 0.025, 0.025, 0.025, 0.025, 0.025,\n",
       "       0.025, 0.025, 0.025, 0.025], dtype=float32)"
      ]
     },
     "execution_count": 17,
     "metadata": {},
     "output_type": "execute_result"
    }
   ],
   "source": [
    "lda_model2.alpha"
   ]
  },
  {
   "cell_type": "markdown",
   "metadata": {},
   "source": [
    "У вас должно получиться, что документ характеризуется небольшим числом тем. Попробуем поменять гиперпараметр alpha, задающий априорное распределение Дирихле для распределений тем в документах."
   ]
  },
  {
   "cell_type": "markdown",
   "metadata": {},
   "source": [
    "__Задание 4.__ Обучите третью модель: используйте сокращенный корпус (corpus2 и dictionary2) и установите параметр __alpha=1__, passes=5. Не забудьте про фиксацию seed! Выведите темы новой модели для нулевого документа; должно получиться, что распределение над множеством тем практически равномерное. Чтобы убедиться в том, что во второй модели документы описываются гораздо более разреженными распределениями, чем в третьей, посчитайте суммарное количество элементов, __превосходящих 0.01__, в матрицах темы-документы обеих моделей. Другими словами, запросите темы  модели для каждого документа с параметром *minimum_probability=0.01* и просуммируйте число элементов в получаемых массивах. Передайте две суммы (сначала для модели с alpha по умолчанию, затем для модели в alpha=1) в функцию save_answers4."
   ]
  },
  {
   "cell_type": "code",
   "execution_count": 18,
   "metadata": {},
   "outputs": [
    {
     "name": "stdout",
     "output_type": "stream",
     "text": [
      "Wall time: 29.8 s\n"
     ]
    }
   ],
   "source": [
    "%%time\n",
    "\n",
    "## Training model\n",
    "np.random.seed(76543)\n",
    "lda_model3 = models.ldamodel.LdaModel(corpus2, id2word=dictionary2, num_topics=40, passes=5, alpha=1)"
   ]
  },
  {
   "cell_type": "code",
   "execution_count": 19,
   "metadata": {},
   "outputs": [
    {
     "data": {
      "text/plain": [
       "[(0, 0.02139767),\n",
       " (1, 0.021295449),\n",
       " (2, 0.021276837),\n",
       " (3, 0.02136592),\n",
       " (4, 0.021295367),\n",
       " (5, 0.021311188),\n",
       " (6, 0.02130497),\n",
       " (7, 0.021280425),\n",
       " (8, 0.021401435),\n",
       " (9, 0.021379547),\n",
       " (10, 0.021837901),\n",
       " (11, 0.021492522),\n",
       " (12, 0.021276837),\n",
       " (13, 0.022189476),\n",
       " (14, 0.021718128),\n",
       " (15, 0.021506282),\n",
       " (16, 0.021404227),\n",
       " (17, 0.021964433),\n",
       " (18, 0.021329327),\n",
       " (19, 0.021678468),\n",
       " (20, 0.024654442),\n",
       " (21, 0.021277266),\n",
       " (22, 0.021276837),\n",
       " (23, 0.02128486),\n",
       " (24, 0.021771813),\n",
       " (25, 0.021494575),\n",
       " (26, 0.0214625),\n",
       " (27, 0.021634072),\n",
       " (28, 0.021495195),\n",
       " (29, 0.02130315),\n",
       " (30, 0.042615004),\n",
       " (31, 0.092193045),\n",
       " (32, 0.021500383),\n",
       " (33, 0.021278715),\n",
       " (34, 0.021446656),\n",
       " (35, 0.021365918),\n",
       " (36, 0.02133184),\n",
       " (37, 0.021289436),\n",
       " (38, 0.021277951),\n",
       " (39, 0.06833995)]"
      ]
     },
     "execution_count": 19,
     "metadata": {},
     "output_type": "execute_result"
    }
   ],
   "source": [
    "lda_model3.get_document_topics(corpus2[0])"
   ]
  },
  {
   "cell_type": "code",
   "execution_count": 20,
   "metadata": {},
   "outputs": [],
   "source": [
    "def save_answers4(count_model2, count_model3):\n",
    "    with open(\"cooking_LDA_pa_task4.txt\", \"w\") as fout:\n",
    "        fout.write(\" \".join([str(el) for el in [count_model2, count_model3]]))"
   ]
  },
  {
   "cell_type": "code",
   "execution_count": 21,
   "metadata": {},
   "outputs": [],
   "source": [
    "## Calculating counts\n",
    "count_model2 = sum([len(i) for i in lda_model2.get_document_topics(corpus2, minimum_probability=0.01)])\n",
    "count_model3 = sum([len(i) for i in lda_model3.get_document_topics(corpus2, minimum_probability=0.01)])\n",
    "\n",
    "## Saving results\n",
    "save_answers4(count_model2, count_model3)"
   ]
  },
  {
   "cell_type": "markdown",
   "metadata": {},
   "source": [
    "Таким образом, гиперпараметр __alpha__ влияет на разреженность распределений тем в документах. Аналогично гиперпараметр __eta__ влияет на разреженность распределений слов в темах."
   ]
  },
  {
   "cell_type": "markdown",
   "metadata": {},
   "source": [
    "### LDA как способ понижения размерности\n",
    "Иногда, распределения над темами, найденные с помощью LDA, добавляют в матрицу объекты-признаки как дополнительные, семантические, признаки, и это может улучшить качество решения задачи. Для простоты давайте просто обучим классификатор рецептов на кухни на признаках, полученных из LDA, и измерим точность (accuracy).\n",
    "\n",
    "__Задание 5.__ Используйте модель, построенную по сокращенной выборке с alpha по умолчанию (вторую модель). Составьте матрицу $\\Theta = p(t|d)$ вероятностей тем в документах; вы можете использовать тот же метод get_document_topics, а также вектор правильных ответов y (в том же порядке, в котором рецепты идут в переменной recipes). Создайте объект RandomForestClassifier со 100 деревьями, с помощью функции cross_val_score вычислите среднюю accuracy по трем фолдам (перемешивать данные не нужно) и передайте в функцию save_answers5."
   ]
  },
  {
   "cell_type": "code",
   "execution_count": 22,
   "metadata": {},
   "outputs": [],
   "source": [
    "from sklearn.ensemble import RandomForestClassifier\n",
    "from sklearn.model_selection import cross_val_score"
   ]
  },
  {
   "cell_type": "code",
   "execution_count": 23,
   "metadata": {},
   "outputs": [],
   "source": [
    "def save_answers5(accuracy):\n",
    "     with open(\"cooking_LDA_pa_task5.txt\", \"w\") as fout:\n",
    "        fout.write(str(accuracy))"
   ]
  },
  {
   "cell_type": "code",
   "execution_count": 24,
   "metadata": {},
   "outputs": [
    {
     "name": "stdout",
     "output_type": "stream",
     "text": [
      "Wall time: 55.4 s\n"
     ]
    }
   ],
   "source": [
    "%%time\n",
    "\n",
    "## Preprocessing\n",
    "y = [i['cuisine'] for i in recipes]\n",
    "X = []\n",
    "for i in range(len(corpus2)):\n",
    "    document_topics = lda_model2.get_document_topics(corpus2[i], minimum_probability=0)\n",
    "    X.append([document_topics[i][1] for i in range(40)])\n",
    "\n",
    "## Training model\n",
    "classifier = RandomForestClassifier(n_estimators=100)\n",
    "cross_val_accuracy = cross_val_score(classifier, X, y, cv=3)\n",
    "accuracy = sum(cross_val_accuracy) / len(cross_val_accuracy)\n",
    "\n",
    "## Saving results\n",
    "save_answers5(accuracy)"
   ]
  },
  {
   "cell_type": "markdown",
   "metadata": {},
   "source": [
    "Для такого большого количества классов это неплохая точность. Вы можете попроовать обучать RandomForest на исходной матрице частот слов, имеющей значительно большую размерность, и увидеть, что accuracy увеличивается на 10–15%. Таким образом, LDA собрал не всю, но достаточно большую часть информации из выборки, в матрице низкого ранга."
   ]
  },
  {
   "cell_type": "markdown",
   "metadata": {},
   "source": [
    "### LDA — вероятностная модель\n",
    "Матричное разложение, использующееся в LDA, интерпретируется как следующий процесс генерации документов.\n",
    "\n",
    "Для документа $d$ длины $n_d$:\n",
    "1. Из априорного распределения Дирихле с параметром alpha сгенерировать распределение над множеством тем: $\\theta_d \\sim Dirichlet(\\alpha)$\n",
    "1. Для каждого слова $w = 1, \\dots, n_d$:\n",
    "    1. Сгенерировать тему из дискретного распределения $t \\sim \\theta_{d}$\n",
    "    1. Сгенерировать слово из дискретного распределения $w \\sim \\phi_{t}$.\n",
    "    \n",
    "Подробнее об этом в [Википедии](https://en.wikipedia.org/wiki/Latent_Dirichlet_allocation).\n",
    "\n",
    "В контексте нашей задачи получается, что, используя данный генеративный процесс, можно создавать новые рецепты. Вы можете передать в функцию модель и число ингредиентов и сгенерировать рецепт :)"
   ]
  },
  {
   "cell_type": "code",
   "execution_count": 25,
   "metadata": {},
   "outputs": [],
   "source": [
    "def generate_recipe(model, num_ingredients):\n",
    "    theta = np.random.dirichlet(model.alpha)\n",
    "    for i in range(num_ingredients):\n",
    "        t = np.random.choice(np.arange(model.num_topics), p=theta)\n",
    "        topic = model.show_topic(t, topn=model.num_terms)\n",
    "        topic_distr = [x[1] for x in topic]\n",
    "        terms = [x[0] for x in topic]\n",
    "        w = np.random.choice(terms, p=topic_distr)\n",
    "        print(w)"
   ]
  },
  {
   "cell_type": "markdown",
   "metadata": {},
   "source": [
    "### Интерпретация построенной модели\n",
    "Вы можете рассмотреть топы ингредиентов каждой темы. Большиснтво тем сами по себе похожи на рецепты; в некоторых собираются продукты одного вида, например, свежие фрукты или разные виды сыра.\n",
    "\n",
    "Попробуем эмпирически соотнести наши темы с национальными кухнями (cuisine). Построим матрицу $A$ размера темы $x$ кухни, ее элементы $a_{tc}$ — суммы $p(t|d)$ по всем документам $d$, которые отнесены к кухне $c$. Нормируем матрицу на частоты рецептов по разным кухням, чтобы избежать дисбаланса между кухнями. Следующая функция получает на вход объект модели, объект корпуса и исходные данные и возвращает нормированную матрицу $A$. Ее удобно визуализировать с помощью seaborn."
   ]
  },
  {
   "cell_type": "code",
   "execution_count": 26,
   "metadata": {},
   "outputs": [],
   "source": [
    "import pandas\n",
    "import seaborn\n",
    "from matplotlib import pyplot as plt\n",
    "%matplotlib inline"
   ]
  },
  {
   "cell_type": "code",
   "execution_count": 27,
   "metadata": {},
   "outputs": [],
   "source": [
    "def compute_topic_cuisine_matrix(model, corpus, recipes):\n",
    "    # составляем вектор целевых признаков\n",
    "    targets = list(set([recipe[\"cuisine\"] for recipe in recipes]))\n",
    "    # составляем матрицу\n",
    "    tc_matrix = pandas.DataFrame(data=np.zeros((model.num_topics, len(targets))), columns=targets)\n",
    "    for recipe, bow in zip(recipes, corpus):\n",
    "        recipe_topic = model.get_document_topics(bow)\n",
    "        for t, prob in recipe_topic:\n",
    "            tc_matrix[recipe[\"cuisine\"]][t] += prob\n",
    "    # нормируем матрицу\n",
    "    target_sums = pandas.DataFrame(data=np.zeros((1, len(targets))), columns=targets)\n",
    "    for recipe in recipes:\n",
    "        target_sums[recipe[\"cuisine\"]] += 1\n",
    "    return pandas.DataFrame(tc_matrix.values/target_sums.values, columns=tc_matrix.columns)"
   ]
  },
  {
   "cell_type": "code",
   "execution_count": 28,
   "metadata": {},
   "outputs": [],
   "source": [
    "def plot_matrix(tc_matrix):\n",
    "    plt.figure(figsize=(10, 10))\n",
    "    seaborn.heatmap(tc_matrix, square=True)"
   ]
  },
  {
   "cell_type": "code",
   "execution_count": 29,
   "metadata": {},
   "outputs": [
    {
     "data": {
      "image/png": "[encoded data removed]",
      "text/plain": [
       "<Figure size 720x720 with 2 Axes>"
      ]
     },
     "metadata": {
      "needs_background": "light"
     },
     "output_type": "display_data"
    }
   ],
   "source": [
    "# Визуализируйте матрицу\n",
    "matrix_to_plot = compute_topic_cuisine_matrix(lda_model2, corpus2, recipes)\n",
    "plot_matrix(matrix_to_plot)"
   ]
  },
  {
   "cell_type": "markdown",
   "metadata": {},
   "source": [
    "Чем темнее квадрат в матрице, тем больше связь этой темы с данной кухней. Мы видим, что у нас есть темы, которые связаны с несколькими кухнями. Такие темы показывают набор ингредиентов, которые популярны в кухнях нескольких народов, то есть указывают на схожесть кухонь этих народов. Некоторые темы распределены по всем кухням равномерно, они показывают наборы продуктов, которые часто используются в кулинарии всех стран. "
   ]
  },
  {
   "cell_type": "markdown",
   "metadata": {},
   "source": [
    "Жаль, что в датасете нет названий рецептов, иначе темы было бы проще интерпретировать..."
   ]
  },
  {
   "cell_type": "markdown",
   "metadata": {},
   "source": [
    "### Заключение\n",
    "В этом задании вы построили несколько моделей LDA, посмотрели, на что влияют гиперпараметры модели и как можно использовать построенную модель. "
   ]
  }
 ],
 "metadata": {
  "kernelspec": {
   "display_name": "Python 3",
   "language": "python",
   "name": "python3"
  },
  "language_info": {
   "codemirror_mode": {
    "name": "ipython",
    "version": 3
   },
   "file_extension": ".py",
   "mimetype": "text/x-python",
   "name": "python",
   "nbconvert_exporter": "python",
   "pygments_lexer": "ipython3",
   "version": "3.8.3"
  }
 },
 "nbformat": 4,
 "nbformat_minor": 1
}
