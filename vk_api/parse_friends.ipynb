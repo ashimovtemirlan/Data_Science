{
 "cells": [
  {
   "cell_type": "code",
   "execution_count": 1,
   "metadata": {},
   "outputs": [],
   "source": [
    "import pandas as pd\n",
    "import numpy as np\n",
    "\n",
    "import requests\n",
    "import json\n",
    "import time\n",
    "from tqdm import tqdm"
   ]
  },
  {
   "cell_type": "markdown",
   "metadata": {},
   "source": [
    "# [Введение в анализ социальных сетей на примере VK API](https://habr.com/ru/post/263313/)\n",
    "\n",
    "Risks:\n",
    "- Account might be private (in this case, parsing is impossible).\n",
    "- Several accounts of the same person.\n",
    "- Fake accounts."
   ]
  },
  {
   "cell_type": "markdown",
   "metadata": {},
   "source": [
    "# Data Parsing"
   ]
  },
  {
   "cell_type": "code",
   "execution_count": 2,
   "metadata": {},
   "outputs": [],
   "source": [
    "params = json.load(open('params.json'))\n",
    "\n",
    "# Parameters for Parsing\n",
    "source_id = params['source_id']\n",
    "access_token = params['access_token']\n",
    "version = '5.131'"
   ]
  },
  {
   "cell_type": "code",
   "execution_count": 3,
   "metadata": {},
   "outputs": [],
   "source": [
    "def get_friends_of_source_id(source_id, access_token=access_token, version=version, collect_data=True):\n",
    "    \n",
    "    # Getting data\n",
    "    url = f'https://api.vk.com/method/friends.get?user_id={source_id}&access_token={access_token}&fields=nickname%2C%20domain%2C%20sex%2C%20bdate%2C%20city%2C%20country%2C%20timezone%2C%20photo_50%2C%20photo_100%2C%20photo_200_orig%2C%20has_mobile%2C%20contacts%2C%20education%2C%20online%2C%20relation%2C%20last_seen%2C%20status%2C%20can_write_private_message%2C%20can_see_all_posts%2C%20can_post%2C%20universities&v={version}'\n",
    "    session = requests.Session()\n",
    "    response = session.get(url=url)\n",
    "    session.close()\n",
    "    \n",
    "    # Checking response\n",
    "    if response:\n",
    "        data = json.loads(response.text)\n",
    "        if 'error' in data.keys():\n",
    "            return {source_id:'profile is private'}\n",
    "    else:\n",
    "        return {source_id:'no response'}\n",
    "    \n",
    "    # Collecting data\n",
    "    columns = ['source_id','id','first_name','last_name','sex','bdate','country','city','mobile_phone']\n",
    "    df = pd.DataFrame(columns=columns)\n",
    "    if collect_data:\n",
    "        df = pd.DataFrame(data['response']['items'])\n",
    "        df['source_id'] = source_id\n",
    "        df = df[columns]\n",
    "        ## Cleaning data\n",
    "        ### Column \"sex\"\n",
    "        df['sex'] = df.sex.map({1:'F',2:'M'})\n",
    "        ### Columns \"country\" & \"city\"\n",
    "        def clean(x):\n",
    "            try:\n",
    "                return x['title']\n",
    "            except:\n",
    "                return x\n",
    "        df['country'] = df.country.apply(clean)\n",
    "        df['city'] = df.city.apply(clean)\n",
    "        \n",
    "    return df"
   ]
  },
  {
   "cell_type": "code",
   "execution_count": 4,
   "metadata": {
    "scrolled": true
   },
   "outputs": [
    {
     "name": "stderr",
     "output_type": "stream",
     "text": [
      "100%|████████████████████████████████████████████████████████████████████████████████| 173/173 [04:17<00:00,  1.49s/it]"
     ]
    },
    {
     "name": "stdout",
     "output_type": "stream",
     "text": [
      "good_request counts: 113\n",
      "bad_request counts: 60\n"
     ]
    },
    {
     "name": "stderr",
     "output_type": "stream",
     "text": [
      "\n"
     ]
    }
   ],
   "source": [
    "# Creating a list of source ids\n",
    "df_my_friends = get_friends_of_source_id(source_id=source_id); time.sleep(1)\n",
    "list_source_ids = df_my_friends.id.to_list()\n",
    "\n",
    "# Creating DataFrame of people\n",
    "df_friends = df_my_friends.copy()\n",
    "\n",
    "# Parsing\n",
    "good_request, bad_request = 0, 0\n",
    "problem_ids = []\n",
    "for source_id in tqdm(list_source_ids):\n",
    "    response = get_friends_of_source_id(source_id=source_id)\n",
    "    if type(response) == type(df_friends):    \n",
    "        df_friends = df_friends.append(response)\n",
    "        good_request += 1\n",
    "        time.sleep(1)\n",
    "    else:\n",
    "        problem_ids.append(response)\n",
    "        bad_request += 1\n",
    "        time.sleep(1)\n",
    "\n",
    "# Showing statistics\n",
    "print('good_request counts:', good_request)\n",
    "print('bad_request counts:', bad_request)\n",
    "        \n",
    "# Saving results\n",
    "df_friends.to_csv('vk.csv', index=False)"
   ]
  },
  {
   "cell_type": "code",
   "execution_count": 5,
   "metadata": {},
   "outputs": [
    {
     "data": {
      "text/plain": [
       "[{40945093: 'profile is private'},\n",
       " {55454130: 'profile is private'},\n",
       " {113358110: 'profile is private'},\n",
       " {135378262: 'profile is private'},\n",
       " {145848546: 'profile is private'},\n",
       " {150078667: 'profile is private'},\n",
       " {153665352: 'profile is private'},\n",
       " {154826490: 'profile is private'},\n",
       " {158862836: 'profile is private'},\n",
       " {166845403: 'profile is private'},\n",
       " {167199106: 'profile is private'},\n",
       " {168811919: 'profile is private'},\n",
       " {169987301: 'profile is private'},\n",
       " {174779041: 'profile is private'},\n",
       " {175378845: 'profile is private'},\n",
       " {176496919: 'profile is private'},\n",
       " {178566794: 'profile is private'},\n",
       " {180193399: 'profile is private'},\n",
       " {180203136: 'profile is private'},\n",
       " {181202978: 'profile is private'},\n",
       " {183780294: 'profile is private'},\n",
       " {183898980: 'profile is private'},\n",
       " {185887345: 'profile is private'},\n",
       " {186969528: 'profile is private'},\n",
       " {189515792: 'profile is private'},\n",
       " {194223839: 'profile is private'},\n",
       " {196771639: 'profile is private'},\n",
       " {200528828: 'profile is private'},\n",
       " {201902281: 'profile is private'},\n",
       " {204401436: 'profile is private'},\n",
       " {206644134: 'profile is private'},\n",
       " {207612982: 'profile is private'},\n",
       " {212200255: 'profile is private'},\n",
       " {213126694: 'profile is private'},\n",
       " {215926330: 'profile is private'},\n",
       " {222087313: 'profile is private'},\n",
       " {224630304: 'profile is private'},\n",
       " {232184580: 'profile is private'},\n",
       " {237497192: 'profile is private'},\n",
       " {242890037: 'profile is private'},\n",
       " {258251219: 'profile is private'},\n",
       " {259967883: 'profile is private'},\n",
       " {277773620: 'profile is private'},\n",
       " {281957723: 'profile is private'},\n",
       " {287070486: 'profile is private'},\n",
       " {287646425: 'profile is private'},\n",
       " {289201886: 'profile is private'},\n",
       " {290140470: 'profile is private'},\n",
       " {305384961: 'profile is private'},\n",
       " {305670610: 'profile is private'},\n",
       " {306793589: 'profile is private'},\n",
       " {326131008: 'profile is private'},\n",
       " {349405487: 'profile is private'},\n",
       " {351020436: 'profile is private'},\n",
       " {412507602: 'profile is private'},\n",
       " {434926699: 'profile is private'},\n",
       " {441526754: 'profile is private'},\n",
       " {465105487: 'profile is private'},\n",
       " {532048311: 'profile is private'},\n",
       " {537970931: 'profile is private'}]"
      ]
     },
     "execution_count": 5,
     "metadata": {},
     "output_type": "execute_result"
    }
   ],
   "source": [
    "problem_ids"
   ]
  }
 ],
 "metadata": {
  "kernelspec": {
   "display_name": "Python 3",
   "language": "python",
   "name": "python3"
  },
  "language_info": {
   "codemirror_mode": {
    "name": "ipython",
    "version": 3
   },
   "file_extension": ".py",
   "mimetype": "text/x-python",
   "name": "python",
   "nbconvert_exporter": "python",
   "pygments_lexer": "ipython3",
   "version": "3.8.3"
  }
 },
 "nbformat": 4,
 "nbformat_minor": 4
}
